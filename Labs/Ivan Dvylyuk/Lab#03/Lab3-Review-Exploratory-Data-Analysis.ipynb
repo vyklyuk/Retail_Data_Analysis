{
  "cells": [
    {
      "cell_type": "markdown",
      "id": "e25f92f5-26ff-499b-b787-3ada827ce17c",
      "metadata": {},
      "outputs": [],
      "source": [
        "<center>\n    <img src=\"https://cf-courses-data.s3.us.cloud-object-storage.appdomain.cloud/assets/logos/SN_web_lightmode.png\" width=\"300\" alt=\"cognitiveclass.ai logo\"  />\n</center>\n\n<h1 style=\"font-size: 36px; font-weight: bold; margin-top: 20px; text-decoration: none; margin-bottom: 25px;\">Forecasting the turnover of supermarkets</h1>\n<h2 style=\"font-size: 32px; font-weight: 500; margin-top: 0;\">Lab. 3. Exploratory Data Analysis</h2>\n\nEstimated time needed: **30** minutes\n\n## Context\n<details><summary>Click here to learn more about the purpose of the labs</summary>\n\nIn the dataset, you'll get data of different stores of a supermarket company. Our goals of analysis are:\n<ol>\n    <li>Calculate:</li>\n    <ul>\n    <li>Average sales volume per customer;</li>\n    <li>Average sales volume per 1 square meter of store area;</li>\n    </ul>\n    <li>Investigate how indicators such as the number of customers, the number of products, and the size of store area affect the turnover volume;</li>\n    <li>Calculate the forecast value of turnover for the next period;</li>\n</ol>\n    \n</details>\n\n## Incoming data\n<details><summary>Click here to learn more about the incoming data</summary>\n\n<p>The dataset contains information on sample parameters from 896 supermarkets: store identifier, retail store area, number of product categories for sale, average monthly customer traffic, turnover volume.</p>\n<ul>\n    <li>Store ID: (Index) ID of the particular store;</li>\n    <li>Store Area: Physical Area of the store in yard square;</li>\n    <li>Items Available: Number of different items available in the corresponding store;</li>\n    <li>Daily Customer Count: Number of customers who visited to stores on an average over month;</li>\n    <h3>Target value</h3>\n    <li>Store Sales: Trade turnover;</li>\n\n</ul>\n    \n</details>\n\n## Objectives\n\nAfter completing this lab you will be able to:\n\n*   Explore features or charecteristics to predict store sales\n"
      ]
    },
    {
      "cell_type": "markdown",
      "id": "15cdc8e9-e04d-426d-89e3-4254878b9f9d",
      "metadata": {},
      "outputs": [],
      "source": [
        "## Table of Contents\n\n<div class=\"alert alert-block alert-info\" style=\"margin-top: 20px\">\n<ol>\n    <li><a href=\"#import_data\">Import Data from Module</a></li>\n    <li><a href=\"#pattern_visualization\">Analyzing Individual Feature Patterns using Visualization</a></li>\n    <li><a href=\"#discriptive_statistics\">Descriptive Statistical Analysis</a></li>\n    <li><a href=\"#correlation_causation\">Correlation and Causation</a></li>\n    <li><a href=\"#anova\">ANOVA</a></li>\n</ol>\n\n</div>\n\n<hr>\n"
      ]
    },
    {
      "cell_type": "markdown",
      "id": "df3fdaa7-5f49-48e5-a04f-adb5bfaabe46",
      "metadata": {},
      "outputs": [],
      "source": [
        "<h2 id=\"data_acquisition\">Data Acquisition</h2>\n\n<details><summary>Сlick here to learn more about the dataframe</summary>\n<br>   \n<p>In our case, the Store Dataset is an online source, and it is in a CSV (comma separated value) format. We use this dataset as an example to practice data reading. </p>\n\n<ul>\n    <li>Data source: <a href=\"https://www.kaggle.com/datasets/surajjha101/stores-area-and-sales-data/download?datasetVersionNumber=1\" target=\"_blank\">https://www.kaggle.com/datasets/surajjha101/stores-area-and-sales-data</a></li>\n    <li>Data type: csv</li>\n    <li>Licence: <a href=\"https://creativecommons.org/licenses/by-sa/3.0/\">CC BY-SA 3.0</a></li>\n</ul>\n \n<p>This DataSet released under CC0: Public Domain license that allow of copy, modify, distribute and perform the work, even for commercial purposes, all without asking permission.</p>\n\n\n\n\n    \n</details>"
      ]
    },
    {
      "cell_type": "markdown",
      "id": "0d9f158a-20bc-4fbc-97dc-78643a531a67",
      "metadata": {},
      "outputs": [],
      "source": [
        "\n<b style=\"font-size: 32px; font-weight: 500; text-decoration: none; padding-top: 20px;\">\n    <a name=\"import_data\" style=\"text-decoration: none;\">\n        <font color=\"black\">1. Import Data from Module 2</font>\n    </a>\n</b><br>\n"
      ]
    },
    {
      "cell_type": "markdown",
      "id": "be9cdd23-80f7-46f5-b754-b682da3e7f9f",
      "metadata": {},
      "outputs": [],
      "source": [
        "### Setup\n"
      ]
    },
    {
      "cell_type": "markdown",
      "id": "36cdeb15-6c27-4b80-8f22-eb566d7f968f",
      "metadata": {},
      "outputs": [],
      "source": [
        "If you run the lab locally using Anaconda, you can load the correct library and versions by uncommenting the following:\n"
      ]
    },
    {
      "cell_type": "code",
      "id": "95763f27-594b-4f88-a308-90826afffdab",
      "metadata": {},
      "outputs": [],
      "source": [
        "#If you run the lab locally using Anaconda, you can load the correct library and versions by uncommenting the following:\n#install specific version of libraries used in lab\n#! mamba install pandas==1.3.3\n#! mamba install numpy=1.21.2\n#! mamba install scipy=1.7.1-y\n#! mamba install seaborn=0.9.0-y\n!pip install dython"
      ]
    },
    {
      "cell_type": "code",
      "id": "51c27d97-a7b6-4329-a15b-9ddce15d9c34",
      "metadata": {},
      "outputs": [],
      "source": [
        "import pandas as pd\nimport numpy as np"
      ]
    },
    {
      "cell_type": "code",
      "id": "f0c38c8b-f7f8-45be-82b5-241f4b4508cf",
      "metadata": {},
      "outputs": [],
      "source": [
        "import warnings\nwarnings.filterwarnings('ignore')"
      ]
    },
    {
      "cell_type": "markdown",
      "id": "a04566d1-8f50-4db1-b96e-954e9d20dedc",
      "metadata": {},
      "outputs": [],
      "source": [
        "This dataset was hosted on IBM Cloud object. Click <a href=\"https://cf-courses-data.s3.us.cloud-object-storage.appdomain.cloud/IBMSkillsNetwork-GPXX0OO8EN/Stores.csv\">HERE</a> for free storage.\n"
      ]
    },
    {
      "cell_type": "markdown",
      "id": "2ef3dbcc-27ee-44ee-8dd6-ebb10e4973a0",
      "metadata": {},
      "outputs": [],
      "source": [
        "you will need to download the dataset; if you are running locally, please comment out the following\n"
      ]
    },
    {
      "cell_type": "code",
      "id": "bd44e325-e73f-4874-a957-a247e5be5067",
      "metadata": {},
      "outputs": [],
      "source": [
        "filename=\"https://cf-courses-data.s3.us.cloud-object-storage.appdomain.cloud/IBMSkillsNetwork-GPXX0OO8EN/Stores.csv\""
      ]
    },
    {
      "cell_type": "code",
      "id": "b8a3bf32-3203-4b56-b31e-8890ddc7475f",
      "metadata": {},
      "outputs": [],
      "source": [
        "df = pd.read_csv(filename, index_col=0)\ndf.head(10)"
      ]
    },
    {
      "cell_type": "markdown",
      "id": "05e7d350-4fe5-4771-9a55-a7f692f52984",
      "metadata": {},
      "outputs": [],
      "source": [
        "\n<b style=\"font-size: 32px; font-weight: 500; text-decoration: none; padding-top: 20px;\">\n    <a name=\"pattern_visualization\" style=\"text-decoration: none;\">\n        <font color=\"black\">2. Analyzing Individual Feature Patterns Using Visualization</font>\n    </a>\n</b><br>"
      ]
    },
    {
      "cell_type": "markdown",
      "id": "c519ba10-d15c-442f-96ca-a9ed23901d11",
      "metadata": {},
      "outputs": [],
      "source": [
        "To install Seaborn we use pip, the Python package manager.\n"
      ]
    },
    {
      "cell_type": "markdown",
      "id": "95007a98-0787-4ae9-9569-2c640ae78371",
      "metadata": {},
      "outputs": [],
      "source": [
        "Import visualization packages \"Matplotlib\" and \"Seaborn\". \n"
      ]
    },
    {
      "cell_type": "code",
      "id": "78948e99-ddd8-461f-a425-6a7a12567ea1",
      "metadata": {},
      "outputs": [],
      "source": [
        "import matplotlib.pyplot as plt\nimport seaborn as sns"
      ]
    },
    {
      "cell_type": "markdown",
      "id": "aaef678a-0f00-40a3-baf6-20e2c4a806d6",
      "metadata": {},
      "outputs": [],
      "source": [
        "### How to choose the right visualization method?\n<p>When visualizing individual variables, it is important to first understand what type of variable you are dealing with. This will help us find the right visualization method for that variable.</p>\n"
      ]
    },
    {
      "cell_type": "code",
      "id": "d0d1ee78-ceda-4878-90f6-c530b774d943",
      "metadata": {},
      "outputs": [],
      "source": [
        "# list the data types for each column\nprint(df.dtypes)"
      ]
    },
    {
      "cell_type": "markdown",
      "id": "6dcf7399-85ab-46e8-b46b-c2f095fd4b03",
      "metadata": {},
      "outputs": [],
      "source": [
        "We can see that the columns 'Sales-per-Store-Area-binned', 'Store-Area-binned', and 'Customers-Count-binned' are of the 'object' data type, even though they are categorical columns. Therefore, it is necessary to correct this by converting them to the 'category' data type."
      ]
    },
    {
      "cell_type": "code",
      "id": "4339bd11-4f80-4489-9135-8692c39e0b13",
      "metadata": {},
      "outputs": [],
      "source": [
        "object_cols = df.select_dtypes(include=['object']).columns\ndf[object_cols] = df[object_cols].astype('category')"
      ]
    },
    {
      "cell_type": "markdown",
      "id": "f8716a1b-363f-4db3-8aa0-d0afe4a619cb",
      "metadata": {},
      "outputs": [],
      "source": [
        "And let's verify the changes."
      ]
    },
    {
      "cell_type": "code",
      "id": "8aade2d5-2f2a-4505-92ad-162dffd06a15",
      "metadata": {},
      "outputs": [],
      "source": [
        "print(df.dtypes)"
      ]
    },
    {
      "cell_type": "markdown",
      "id": "949453f9-15b9-4c09-88db-b3cc3a1ac6db",
      "metadata": {},
      "outputs": [],
      "source": [
        "<div class=\"alert alert-danger alertdanger\" style=\"margin-top: 20px\">\n<b style=\"font-size: 24px; font-weight: bold;\">Question  #1:</b>\n\n<b>What is the data type of the column \"Sales per Store Area\"? </b>\n\n</div>\n"
      ]
    },
    {
      "cell_type": "code",
      "id": "27914e25-075f-4a12-8987-43c7188d2de9",
      "metadata": {},
      "outputs": [],
      "source": [
        "# Write your code below and press Shift+Enter to execute \n"
      ]
    },
    {
      "cell_type": "markdown",
      "id": "2a624601-6899-449b-8f7a-56715a5c7669",
      "metadata": {},
      "outputs": [],
      "source": [
        "<details><summary>Click here for the solution</summary>\n\n```python\ndf['Sales per Store Area'].dtypes\n```\n\n</details>\n"
      ]
    },
    {
      "cell_type": "markdown",
      "id": "7261cab8-4db4-4874-bd0a-95d428de47a3",
      "metadata": {},
      "outputs": [],
      "source": [
        "For example, we can calculate the correlation between variables  of type \"int64\" or \"float64\" using the method \"corr\":\n"
      ]
    },
    {
      "cell_type": "code",
      "id": "38872d62-3031-4e5b-8710-bca94fa02bfd",
      "metadata": {},
      "outputs": [],
      "source": [
        "df.corr()"
      ]
    },
    {
      "cell_type": "markdown",
      "id": "6fe10e67-2b6b-4e1a-b387-0af21a1d7f81",
      "metadata": {},
      "outputs": [],
      "source": [
        "The diagonal elements are always one; we will study correlation more precisely Pearson correlation in-depth at the end of the notebook."
      ]
    },
    {
      "cell_type": "markdown",
      "id": "b88e2a26-21b4-46ec-ab19-7c969caea6c5",
      "metadata": {},
      "outputs": [],
      "source": [
        "The function `df.corr()` calculates the correlation coefficient between numeric variables in a dataframe. However, when it comes to analyzing categorical variables, it is recommended to use the `associations` function, which is specifically designed for that purpose. "
      ]
    },
    {
      "cell_type": "markdown",
      "id": "0ec53acd-7e9a-4da5-9d29-6697c41e9055",
      "metadata": {},
      "outputs": [],
      "source": [
        "This function uses correlation measures that are based on quantitative values represented in categorical variables. Therefore, to calculate the association matrix, it is necessary to have numerical values that correspond to the categories."
      ]
    },
    {
      "cell_type": "markdown",
      "id": "73e349ff-8f93-4e23-a4d5-c61b9f0d9db3",
      "metadata": {},
      "outputs": [],
      "source": [
        "If categorical variables are represented in a text format, the `associations` function cannot calculate the correlation measures because text values cannot be compared, averaged, or calculated for variance, etc. Therefore, before calling the `associations` function, categorical variables need to be converted to a numerical format, for example, using the `OrdinalEncoder`."
      ]
    },
    {
      "cell_type": "code",
      "id": "2857aaa5-5aa1-4dd7-8b23-55c0db4860a6",
      "metadata": {},
      "outputs": [],
      "source": [
        "from sklearn.preprocessing import OrdinalEncoder\nencoder = OrdinalEncoder(dtype='int64')"
      ]
    },
    {
      "cell_type": "markdown",
      "id": "d400753e-056b-4dce-837f-7ad85c68aa83",
      "metadata": {},
      "outputs": [],
      "source": [
        "Let's create a copy of the dataframe and make changes to it."
      ]
    },
    {
      "cell_type": "code",
      "id": "0f814ed1-0307-4af2-826c-4551151e8438",
      "metadata": {},
      "outputs": [],
      "source": [
        "df_encoded = df.copy()\ncategory_cols = df.select_dtypes(include=['category']).columns\ndf_encoded[category_cols] = encoder.fit_transform(df_encoded[category_cols])\nprint(df_encoded)"
      ]
    },
    {
      "cell_type": "markdown",
      "id": "db4a3ec2-e6d7-4445-b301-cedae140ac5e",
      "metadata": {},
      "outputs": [],
      "source": [
        "Here we use the `association` function."
      ]
    },
    {
      "cell_type": "code",
      "id": "091ae266-10a0-42c0-91a4-611d1e5200fc",
      "metadata": {},
      "outputs": [],
      "source": [
        "from dython.nominal import associations\nassoc_matrix = associations(df_encoded, cmap='Blues')\nassoc_matrix"
      ]
    },
    {
      "cell_type": "markdown",
      "id": "09e25c3f-1260-44f5-bbc9-36905aeb8b0c",
      "metadata": {},
      "outputs": [],
      "source": [
        "## Continuous Numerical Variables:\n\n<p>Continuous numerical variables are variables that may contain any value within some range. They can be of type \"int64\" or \"float64\". A great way to visualize these variables is by using scatterplots with fitted lines.</p>\n\n<p>In order to start understanding the (linear) relationship between an individual variable and the price, we can use \"regplot\" which plots the scatterplot plus the fitted regression line for the data.</p>\n"
      ]
    },
    {
      "cell_type": "markdown",
      "id": "737fe6f4-55a0-4e71-8ffd-3fd5929f8f77",
      "metadata": {},
      "outputs": [],
      "source": [
        "Let's see several examples of different linear relationships:\n"
      ]
    },
    {
      "cell_type": "markdown",
      "id": "5665e37f-4bfd-4de8-b2f0-8528ef3e4ff3",
      "metadata": {},
      "outputs": [],
      "source": [
        "### Positive Linear Relationship \n"
      ]
    },
    {
      "cell_type": "markdown",
      "id": "dfd78fa3-6db0-403a-983c-d8ff49ab7f78",
      "metadata": {},
      "outputs": [],
      "source": [
        "Let's find the scatterplot of \"Store Area\" and \"Items Available\".\n"
      ]
    },
    {
      "cell_type": "code",
      "id": "3fc6f09b-90ea-49ff-8e00-4b5e22d27384",
      "metadata": {},
      "outputs": [],
      "source": [
        "# Engine size as potential predictor variable of price\nsns.regplot(x=\"Store Area\", y=\"Items Available\", data=df)\nplt.ylim(0,)"
      ]
    },
    {
      "cell_type": "markdown",
      "id": "7b42f839-0cc9-4488-94fb-ff5f89bc33b6",
      "metadata": {},
      "outputs": [],
      "source": [
        "<p>From the graph, it can be concluded that there is a very strong linear relationship between the variables \"Store Area\" and \"Items Available\", as the points on the graph almost perfectly fit on a straight line.</p>\n"
      ]
    },
    {
      "cell_type": "markdown",
      "id": "0c37d4db-4c88-4eb4-b7a1-b4d48c360a7f",
      "metadata": {},
      "outputs": [],
      "source": [
        "This can also be confirmed by the correlation coefficient value (0.998891), which is very close to 1, indicating a strong positive relationship between these variables."
      ]
    },
    {
      "cell_type": "code",
      "id": "76f9489c-209b-4e46-bc1d-29d56f666313",
      "metadata": {},
      "outputs": [],
      "source": [
        "df[[\"Store Area\", \"Items Available\"]].corr()"
      ]
    },
    {
      "cell_type": "markdown",
      "id": "5ad46069-011d-4fbe-bb1f-16f5209f4618",
      "metadata": {},
      "outputs": [],
      "source": [
        "Such high correlation can lead to modeling problems, as two columns having the same or almost the same information. To avoid such problems, one of these two columns can be removed. This can be done using the drop method."
      ]
    },
    {
      "cell_type": "code",
      "id": "92072dd8-43bc-49eb-b6cd-bd506dd84312",
      "metadata": {},
      "outputs": [],
      "source": [
        "df.drop('Items Available', axis=1, inplace=True)"
      ]
    },
    {
      "cell_type": "markdown",
      "id": "763c7e8d-1385-4f6f-9b0f-186ae0808ea4",
      "metadata": {},
      "outputs": [],
      "source": [
        "Sales per Store Area is a potential predictor variable of Store Sales. Let's find the scatterplot of \"Store Area\" and \"Sales per Store Area\".\n"
      ]
    },
    {
      "cell_type": "code",
      "id": "e2cf1175-788d-4c48-9825-ab42b50c7f32",
      "metadata": {},
      "outputs": [],
      "source": [
        "sns.regplot(x=\"Store Area\", y=\"Sales per Store Area\", data=df)"
      ]
    },
    {
      "cell_type": "markdown",
      "id": "932c8f79-a9d4-4695-acbd-9240571bd8ec",
      "metadata": {},
      "outputs": [],
      "source": [
        "<p>As Sales per Store Area goes up, the Store Area goes down: this indicates an inverse/negative relationship between these two variables. </p>\n"
      ]
    },
    {
      "cell_type": "markdown",
      "id": "77e418a2-0c2d-4fe8-a257-fcd8437c6070",
      "metadata": {},
      "outputs": [],
      "source": [
        "We can examine the correlation between 'Store Area' and 'Sales per Store Area' and see it's approximately -0.4465.\n"
      ]
    },
    {
      "cell_type": "code",
      "id": "d12ab05b-ac98-4190-8dfd-6d62955ba6f5",
      "metadata": {},
      "outputs": [],
      "source": [
        "df[['Store Area', 'Sales per Store Area']].corr()"
      ]
    },
    {
      "cell_type": "markdown",
      "id": "2c328030-773b-479e-ba85-042c1de01e81",
      "metadata": {},
      "outputs": [],
      "source": [
        "### Weak Linear Relationship\n"
      ]
    },
    {
      "cell_type": "markdown",
      "id": "ea74dde3-dfd0-4e38-897e-c6b983d968b4",
      "metadata": {},
      "outputs": [],
      "source": [
        "Let's see if \"Daily Customer Count\" is a predictor variable of \"Store Sales\".\n"
      ]
    },
    {
      "cell_type": "code",
      "id": "10ff2415-b4c6-4569-ac64-abb917919837",
      "metadata": {},
      "outputs": [],
      "source": [
        "sns.regplot(x=\"Daily Customer Count\", y=\"Store Sales\", data=df)"
      ]
    },
    {
      "cell_type": "markdown",
      "id": "31a9ec0f-e4cd-41fe-8918-0b4c0e736513",
      "metadata": {},
      "outputs": [],
      "source": [
        "<p>'Daily Customer Count' does not seem like a good predictor of the price at all since the regression line is close to horizontal. Also, the data points are very scattered and far from the fitted line, showing lots of variability. Therefore, it's not a reliable variable.</p>\n"
      ]
    },
    {
      "cell_type": "markdown",
      "id": "b0908f47-f486-43ac-a3eb-7a6162257fc4",
      "metadata": {},
      "outputs": [],
      "source": [
        "We can examine the correlation between 'Items Available' and 'Store Sales' and see it's approximately 0.0086.\n"
      ]
    },
    {
      "cell_type": "code",
      "id": "0d02cb07-9ba0-4d56-8c1a-48c86bb0b4a8",
      "metadata": {},
      "outputs": [],
      "source": [
        "df[['Daily Customer Count','Store Sales']].corr()"
      ]
    },
    {
      "cell_type": "markdown",
      "id": "9bde8382-f5e5-4c68-8605-a7c57b3acfe9",
      "metadata": {},
      "outputs": [],
      "source": [
        " <div class=\"alert alert-danger alertdanger\" style=\"margin-top: 20px\">\n<b style=\"font-size: 24px; font-weight: bold;\"> Question #2 a): </b>\n\n<p>Find the correlation  between x=\"Store Area\" and y=\"Store Sales\".</p>\n<p>Hint: if you would like to select those columns, use the following syntax: df[[\"Store Area\",\"Store Sales\"]].  </p>\n</div>\n"
      ]
    },
    {
      "cell_type": "code",
      "id": "1de53263-464a-45bd-a82e-2f010cc5dc94",
      "metadata": {},
      "outputs": [],
      "source": [
        "# Write your code below and press Shift+Enter to execute\n"
      ]
    },
    {
      "cell_type": "markdown",
      "id": "1214f6cc-73a9-40f0-a300-d5a5671e743d",
      "metadata": {},
      "outputs": [],
      "source": [
        "<details><summary>Click here for the solution</summary>\n\n```python\n\n#The correlation is 0.0823, the non-diagonal elements of the table.\n\ndf[[\"Store Area\",\"Store Sales\"]].corr()\n\n```\n\n</details>\n"
      ]
    },
    {
      "cell_type": "markdown",
      "id": "d3fecb73-339a-4ef8-bd13-a04c8e6d54df",
      "metadata": {},
      "outputs": [],
      "source": [
        "<div class=\"alert alert-danger alertdanger\" style=\"margin-top: 20px\">\n<b style=\"font-size: 24px; font-weight: bold;\">Question #2 b):</b>\n\n<p>Given the correlation results between \"Store Area\" and \"Store Sales\", do you expect a linear relationship?</p> \n<p>Verify your results using the function \"regplot()\".</p>\n</div>"
      ]
    },
    {
      "cell_type": "code",
      "id": "bcc86d2b-8988-4d1d-afab-f070a731bf27",
      "metadata": {},
      "outputs": [],
      "source": [
        "# Write your code below and press Shift+Enter to execute \n"
      ]
    },
    {
      "cell_type": "markdown",
      "id": "52205f8e-b290-462e-88b9-069e9893f0dc",
      "metadata": {},
      "outputs": [],
      "source": [
        "<details><summary>Click here for the solution</summary>\n\n```python\n\n#There is a weak correlation between the variable 'Daily Customer Count' and 'Store Sales.' as such regression will not work well. We can see this using \"regplot\" to demonstrate this.\n\n#Code: \nsns.regplot(x=\"Store Area\", y=\"Store Sales\", data=df)\n\n```\n\n</details>\n"
      ]
    },
    {
      "cell_type": "markdown",
      "id": "01527206-defc-475d-b124-1cafdac64b8e",
      "metadata": {},
      "outputs": [],
      "source": [
        "### Categorical Variables\n\n<p>These are variables that describe a 'characteristic' of a data unit, and are selected from a small group of categories. The categorical variables can have the type \"object\" or \"int64\". A good way to visualize categorical variables is by using boxplots.</p>\n"
      ]
    },
    {
      "cell_type": "markdown",
      "id": "a5c6b9d8-a928-4efb-bb2e-ec3cc5499963",
      "metadata": {},
      "outputs": [],
      "source": [
        "Let's look at the relationship between \"Store-Area-binned\" and \"Store Sales\".\n"
      ]
    },
    {
      "cell_type": "code",
      "id": "868e62ae-69da-4851-aa02-fb2c6a048bb3",
      "metadata": {},
      "outputs": [],
      "source": [
        "df['Store-Area-binned'] = df['Store-Area-binned'].cat.reorder_categories(['1-999', '1000-1499', '1500-inf'])\nsns.boxplot(x=\"Store-Area-binned\", y=\"Store Sales\", data=df)"
      ]
    },
    {
      "cell_type": "markdown",
      "id": "5dc5fb2e-3466-4789-b370-aa31039bcfd0",
      "metadata": {},
      "outputs": [],
      "source": [
        "The `cat.reorder_categories` method allows specifying the order in which categories will be displayed on the plot"
      ]
    },
    {
      "cell_type": "markdown",
      "id": "f745092f-42f2-4882-9dd6-5d2f8904f726",
      "metadata": {},
      "outputs": [],
      "source": [
        "<p>We see that the distributions of sales between the different store areas categories have a significant overlap, so 'Store-Area-binned' would not be a good predictor of 'Store Sales'. Let's examine store \"Sales per Store Area\" and \"Store Sales\":</p>\n"
      ]
    },
    {
      "cell_type": "code",
      "id": "8bc45825-36bb-4122-9e3d-7c2bc60cf694",
      "metadata": {},
      "outputs": [],
      "source": [
        "df['Sales-per-Store-Area-binned'] = df['Sales-per-Store-Area-binned'].cat.reorder_categories(['Low', 'Middle', 'High'])\nsns.boxplot(x=\"Sales-per-Store-Area-binned\", y=\"Store Sales\", data=df)"
      ]
    },
    {
      "cell_type": "markdown",
      "id": "d0292fd2-b9e3-403a-9280-916799d6dabd",
      "metadata": {},
      "outputs": [],
      "source": [
        "<p>Here we see that the distribution of sales between these three sales-per-area categories, Low, Middle and High, are distinct enough to take 'Sales-per-Store-Area-binned' as a potential good predictor of 'Store Sales'.</p>\n"
      ]
    },
    {
      "cell_type": "markdown",
      "id": "c83b542b-eaff-4a0a-89a6-d5c7ddc7686f",
      "metadata": {},
      "outputs": [],
      "source": [
        "Let's examine \"Customers-Count-binned\" and \"Store Sales\".\n"
      ]
    },
    {
      "cell_type": "code",
      "id": "787b84fc-6f36-4ad8-8f10-d6b707d02c0b",
      "metadata": {},
      "outputs": [],
      "source": [
        "df['Customers-Count-binned'] = df['Customers-Count-binned'].cat.reorder_categories(['1-499', '500-999', '1000-inf'])\nsns.boxplot(x=\"Customers-Count-binned\", y=\"Store Sales\", data=df)"
      ]
    },
    {
      "cell_type": "markdown",
      "id": "fce80448-713e-4051-b021-886043ddfd13",
      "metadata": {},
      "outputs": [],
      "source": [
        "<p>Here we see that the distribution of store sales between the different customers count categories differs. As such, 'Store-Area-binned' would not be a good predictor of 'Store Sales'</p>\n"
      ]
    },
    {
      "cell_type": "markdown",
      "id": "e2489e15-5c1d-4c2b-b193-c6ef70405b22",
      "metadata": {},
      "outputs": [],
      "source": [
        "\n<b style=\"font-size: 32px; font-weight: 500; text-decoration: none; padding-top: 20px;\">\n    <a name=\"discriptive_statistics\" style=\"text-decoration: none;\">\n        <font color=\"black\">3. Descriptive Statistical Analysis</font>\n    </a>\n</b><br>"
      ]
    },
    {
      "cell_type": "markdown",
      "id": "8629dda7-d695-4d12-ac57-4e8b99cd745c",
      "metadata": {},
      "outputs": [],
      "source": [
        "<p>Let's first take a look at the variables by utilizing a description method.</p>\n\n<p>The <b>describe</b> function automatically computes basic statistics for all continuous variables. Any NaN values are automatically skipped in these statistics.</p>\n\nThis will show:\n\n<ul>\n    <li>the count of that variable</li>\n    <li>the mean</li>\n    <li>the standard deviation (std)</li> \n    <li>the minimum value</li>\n    <li>the IQR (Interquartile Range: 25%, 50% and 75%)</li>\n    <li>the maximum value</li>\n<ul>\n"
      ]
    },
    {
      "cell_type": "markdown",
      "id": "85419f11-2b46-48e7-99e2-4b2f68610400",
      "metadata": {},
      "outputs": [],
      "source": [
        "We can apply the method \"describe\" as follows:\n"
      ]
    },
    {
      "cell_type": "code",
      "id": "8deeaa3d-9e30-4e50-8cdd-9a01ca08255c",
      "metadata": {},
      "outputs": [],
      "source": [
        "df.describe()"
      ]
    },
    {
      "cell_type": "markdown",
      "id": "300b4836-a5cb-4438-bf95-a95c3e25d897",
      "metadata": {},
      "outputs": [],
      "source": [
        "The default setting of \"describe\" skips variables of type object. We can apply the method \"describe\" on the variables of type 'object' as follows:\n"
      ]
    },
    {
      "cell_type": "code",
      "id": "2a0e513b-5fc3-4804-8021-42ba19c74326",
      "metadata": {},
      "outputs": [],
      "source": [
        "df.describe(include=['category'])"
      ]
    },
    {
      "cell_type": "markdown",
      "id": "7e637cdb-4502-4e4c-9cc6-2714da3bdab5",
      "metadata": {},
      "outputs": [],
      "source": [
        "### Value Counts\n"
      ]
    },
    {
      "cell_type": "markdown",
      "id": "8ef4b577-47e4-4ddc-97a1-1e2e66ec35cb",
      "metadata": {},
      "outputs": [],
      "source": [
        "<p>Value counts is a good way of understanding how many units of each characteristic/variable we have. We can apply the \"value_counts\" method on the column \"drive-wheels\". Don’t forget the method \"value_counts\" only works on pandas series, not pandas dataframes. As a result, we only include one bracket <code>df['Store-Area-binned']</code>, not two brackets <code>df[['Store-Area-binned']]</code>.</p>\n"
      ]
    },
    {
      "cell_type": "code",
      "id": "98d29b97-1ae7-4d79-80c5-62f8e4a65d4e",
      "metadata": {},
      "outputs": [],
      "source": [
        "df['Store-Area-binned'].value_counts()"
      ]
    },
    {
      "cell_type": "markdown",
      "id": "134fec2a-5cb4-417a-ab5b-4300095edf9c",
      "metadata": {},
      "outputs": [],
      "source": [
        "We can convert the series to a dataframe as follows:\n"
      ]
    },
    {
      "cell_type": "code",
      "id": "fe2422ae-34a0-4eb9-a746-33c960b5be74",
      "metadata": {},
      "outputs": [],
      "source": [
        "df['Store-Area-binned'].value_counts().to_frame()"
      ]
    },
    {
      "cell_type": "markdown",
      "id": "4dfbf522-12ba-42ed-84c3-8af8c1f55443",
      "metadata": {},
      "outputs": [],
      "source": [
        "Let's repeat the above steps but save the results to the dataframe \"store_area_counts\" and rename the column  'Store-Area-binned' to 'value_counts'.\n"
      ]
    },
    {
      "cell_type": "code",
      "id": "94f92915-bbc1-47d3-a7ea-d50d1539c589",
      "metadata": {},
      "outputs": [],
      "source": [
        "store_area_counts = df['Store-Area-binned'].value_counts().to_frame()\nstore_area_counts.rename(columns={'Store-Area-binned': 'value_counts'}, inplace=True)\nstore_area_counts.sort_index()"
      ]
    },
    {
      "cell_type": "markdown",
      "id": "f2ea3f78-4fcb-4d27-96f4-eabd881fe135",
      "metadata": {},
      "outputs": [],
      "source": [
        "Now let's rename the index to 'Store Area Distribution':\n"
      ]
    },
    {
      "cell_type": "code",
      "id": "4925e0dd-6964-4a78-8c8a-b725aa2b55ed",
      "metadata": {},
      "outputs": [],
      "source": [
        "store_area_counts.index.name = 'Store Area Distribution'\nstore_area_counts.sort_index()"
      ]
    },
    {
      "cell_type": "markdown",
      "id": "6219dce5-bcc9-4acb-af43-8a5723e0c3a5",
      "metadata": {},
      "outputs": [],
      "source": [
        "We can repeat the above process for the variable 'Customers-Count-binned'.\n"
      ]
    },
    {
      "cell_type": "code",
      "id": "8ac2eabb-180b-468e-a04b-609f7d209c76",
      "metadata": {},
      "outputs": [],
      "source": [
        "# engine-location as variable\ncustomers_counts = df['Customers-Count-binned'].value_counts().to_frame()\ncustomers_counts.rename(columns={'Customers-Count-binned': 'value_counts'}, inplace=True)\ncustomers_counts.index.name = 'Customers Distribution'\ncustomers_counts.sort_index()"
      ]
    },
    {
      "cell_type": "markdown",
      "id": "ef143824-4421-4edb-8abd-e070c7f4f411",
      "metadata": {},
      "outputs": [],
      "source": [
        "\n<b style=\"font-size: 32px; font-weight: 500; text-decoration: none; padding-top: 20px;\">\n    <a name=\"correlation_causation\" style=\"text-decoration: none;\">\n        <font color=\"black\">4. Correlation and Causation</font>\n    </a>\n</b><br>"
      ]
    },
    {
      "cell_type": "markdown",
      "id": "d5787996-6540-44ab-8298-91a4a06679c8",
      "metadata": {},
      "outputs": [],
      "source": [
        "<p><b>Correlation</b>: a measure of the extent of interdependence between variables.</p>\n\n<p><b>Causation</b>: the relationship between cause and effect between two variables.</p>\n\n<p>It is important to know the difference between these two. Correlation does not imply causation. Determining correlation is much simpler  the determining causation as causation may require independent experimentation.</p>\n"
      ]
    },
    {
      "cell_type": "markdown",
      "id": "392b62ae-1b1c-40a6-858a-3fd9f6e93fd3",
      "metadata": {},
      "outputs": [],
      "source": [
        "<p><b>Pearson Correlation</b></p>\n<p>The Pearson Correlation measures the linear dependence between two variables X and Y.</p>\n<p>The resulting coefficient is a value between -1 and 1 inclusive, where:</p>\n<ul>\n    <li><b>1</b>: Perfect positive linear correlation.</li>\n    <li><b>0</b>: No linear correlation, the two variables most likely do not affect each other.</li>\n    <li><b>-1</b>: Perfect negative linear correlation.</li>\n</ul>\n"
      ]
    },
    {
      "cell_type": "markdown",
      "id": "67b8ca26-f884-4aa9-8f55-a3a745e3c1b0",
      "metadata": {},
      "outputs": [],
      "source": [
        "<p>Pearson Correlation is the default method of the function \"corr\". Like before, we can calculate the Pearson Correlation of the of the 'int64' or 'float64'  variables.</p>\n"
      ]
    },
    {
      "cell_type": "code",
      "id": "0c8e8e17-54fd-4618-af57-089233d129fc",
      "metadata": {},
      "outputs": [],
      "source": [
        "df.corr()"
      ]
    },
    {
      "cell_type": "markdown",
      "id": "be1697da-63cc-4874-9edc-8e7407857f6b",
      "metadata": {},
      "outputs": [],
      "source": [
        "Sometimes we would like to know the significant of the correlation estimate.\n"
      ]
    },
    {
      "cell_type": "markdown",
      "id": "715c53a7-218a-4784-8de1-5d46c73c3adf",
      "metadata": {},
      "outputs": [],
      "source": [
        "<b>P-value</b>\n\n<p>What is this P-value? The P-value is the probability value that the correlation between these two variables is statistically significant. Normally, we choose a significance level of 0.05, which means that we are 95% confident that the correlation between the variables is significant.</p>\n\nBy convention, when the\n\n<ul>\n    <li>p-value is $<$ 0.001: we say there is strong evidence that the correlation is significant.</li>\n    <li>the p-value is $<$ 0.05: there is moderate evidence that the correlation is significant.</li>\n    <li>the p-value is $<$ 0.1: there is weak evidence that the correlation is significant.</li>\n    <li>the p-value is $>$ 0.1: there is no evidence that the correlation is significant.</li>\n</ul>\n"
      ]
    },
    {
      "cell_type": "markdown",
      "id": "2a83dc73-5d78-42c9-96c0-52fceef8c3d4",
      "metadata": {},
      "outputs": [],
      "source": [
        "We can obtain this information using  \"stats\" module in the \"scipy\"  library.\n"
      ]
    },
    {
      "cell_type": "code",
      "id": "66cfd872-cfb9-415d-8aef-d106464ad671",
      "metadata": {},
      "outputs": [],
      "source": [
        "from scipy import stats"
      ]
    },
    {
      "cell_type": "markdown",
      "id": "f6a8bd73-f549-4d25-a507-3c8b6e3817e9",
      "metadata": {},
      "outputs": [],
      "source": [
        "### Store Area vs. Store Sales\n"
      ]
    },
    {
      "cell_type": "markdown",
      "id": "68e96244-d19f-4fa3-84a6-c3e4c9c137b2",
      "metadata": {},
      "outputs": [],
      "source": [
        "Let's calculate the  Pearson Correlation Coefficient and P-value of 'wheel-base' and 'price'.\n"
      ]
    },
    {
      "cell_type": "code",
      "id": "2408b259-a227-4cd0-aa57-bd9c3b7ab931",
      "metadata": {},
      "outputs": [],
      "source": [
        "pearson_coef, p_value = stats.pearsonr(df['Store Area'], df['Store Sales'])\nprint(\"The Pearson Correlation Coefficient is\", pearson_coef, \" with a P-value of P =\", p_value)  "
      ]
    },
    {
      "cell_type": "markdown",
      "id": "8b92dda9-17d4-4f29-8d60-37fa3e6bd867",
      "metadata": {},
      "outputs": [],
      "source": [
        "#### Conclusion:\n<p>Since the p-value is $<$ 0.05, there is moderate evidence that the correlation  between Store Area and Store Sales is significant, although the linear relationship is extreamly weak (~0.097).</p>\n"
      ]
    },
    {
      "cell_type": "markdown",
      "id": "dce04f25-4b9c-4ee6-b7b5-ff481cecd3df",
      "metadata": {},
      "outputs": [],
      "source": [
        "### Daily Customer Count vs. Store Sales\n\nLet's calculate the  Pearson Correlation Coefficient and P-value of 'Daily Customer Count' and 'Store Sales'.\n"
      ]
    },
    {
      "cell_type": "code",
      "id": "12dfbbb5-7406-4987-9465-0b5c828ab12e",
      "metadata": {},
      "outputs": [],
      "source": [
        "pearson_coef, p_value = stats.pearsonr(df['Daily Customer Count'], df['Store Sales'])\nprint(\"The Pearson Correlation Coefficient is\", pearson_coef, \" with a P-value of P = \", p_value)  "
      ]
    },
    {
      "cell_type": "markdown",
      "id": "01c33caa-c76e-40d0-9533-4c12a6795c6b",
      "metadata": {},
      "outputs": [],
      "source": [
        "#### Conclusion:\n<p>Since the p-value is $>$ 0.1, there is no evidence that the correlation Daily Customer Count and Store Sales is significant, and the linear relationship is extremely weak (~0.008).</p>\n"
      ]
    },
    {
      "cell_type": "markdown",
      "id": "bb4ecd0c-b674-4618-8b17-b98b34040487",
      "metadata": {},
      "outputs": [],
      "source": [
        "### Sales per Store Area vs. Store Sales\n"
      ]
    },
    {
      "cell_type": "markdown",
      "id": "6ec2f727-95fa-4069-966d-f796b8771f7a",
      "metadata": {},
      "outputs": [],
      "source": [
        "Let's calculate the Pearson Correlation Coefficient and P-value of 'Sales per Store Area' and 'Store Sales':\n"
      ]
    },
    {
      "cell_type": "code",
      "id": "e7de2aa9-001d-488e-a26d-5beac4f8ab79",
      "metadata": {},
      "outputs": [],
      "source": [
        "pearson_coef, p_value = stats.pearsonr(df['Sales per Store Area'], df['Store Sales'])\nprint(\"The Pearson Correlation Coefficient is\", pearson_coef, \" with a P-value of P =\", p_value ) "
      ]
    },
    {
      "cell_type": "markdown",
      "id": "7621244e-c4e8-45bc-a9cb-7f148da94b9e",
      "metadata": {},
      "outputs": [],
      "source": [
        "#### Conclusion:\n\nSince the p-value is < 0.001, the correlation between Sales per Store Area and Store Sales is statistically significant, and the linear relationship is quite strong (\\~0.826).\n"
      ]
    },
    {
      "cell_type": "markdown",
      "id": "e78be34c-0d9c-47f7-a717-d5c5ec1d1bc1",
      "metadata": {},
      "outputs": [],
      "source": [
        "### Revenue per Customer vs. Store Sales\n"
      ]
    },
    {
      "cell_type": "markdown",
      "id": "cd9e491e-edec-4b7b-9c1c-0b667a50ffae",
      "metadata": {},
      "outputs": [],
      "source": [
        "Let's calculate the Pearson Correlation Coefficient and P-value of 'Revenue per Customer' and 'Store Sales':\n"
      ]
    },
    {
      "cell_type": "code",
      "id": "29428034-f281-46ee-974f-d7ad34e474dc",
      "metadata": {},
      "outputs": [],
      "source": [
        "pearson_coef, p_value = stats.pearsonr(df['Revenue per Customer'], df['Store Sales'])\nprint( \"The Pearson Correlation Coefficient is\", pearson_coef, \" with a P-value of P = \", p_value)  "
      ]
    },
    {
      "cell_type": "markdown",
      "id": "fc1b1f76-5435-4282-9e0f-608360759380",
      "metadata": {},
      "outputs": [],
      "source": [
        "#### Conclusion:\n<p>Since the p-value is $<$ 0.001, the correlation between Revenue per Customer and Store Sales is statistically significant, and the linear relationship is weak (~0.139).</p>\n"
      ]
    },
    {
      "cell_type": "markdown",
      "id": "c4094c95-84b7-48ba-9f0c-4c3d2d1a167f",
      "metadata": {},
      "outputs": [],
      "source": [
        "\n<b style=\"font-size: 32px; font-weight: 500; text-decoration: none; padding-top: 20px;\">\n    <a name=\"anova\" style=\"text-decoration: none;\">\n        <font color=\"black\">5. ANOVA</font>\n    </a>\n</b><br>"
      ]
    },
    {
      "cell_type": "markdown",
      "id": "0a846293-3361-44f8-93b3-09ed9f8681e1",
      "metadata": {},
      "outputs": [],
      "source": [
        "### ANOVA: Analysis of Variance\n<p>The Analysis of Variance  (ANOVA) is a statistical method used to test whether there are significant differences between the means of two or more groups. ANOVA returns two parameters:</p>\n\n<p><b>F-test score</b>: ANOVA assumes the means of all groups are the same, calculates how much the actual means deviate from the assumption, and reports it as the F-test score. A larger score means there is a larger difference between the means.</p>\n\n<p><b>P-value</b>:  P-value tells how statistically significant our calculated score value is.</p>\n\n<p>If our Stote Sales variable is strongly correlated with the variable we are analyzing, we expect ANOVA to return a sizeable F-test score and a small p-value.</p>\n"
      ]
    },
    {
      "cell_type": "markdown",
      "id": "57952929-5a67-41b2-99dc-2b45e3261f2a",
      "metadata": {},
      "outputs": [],
      "source": [
        "### Sales per Store Area\n"
      ]
    },
    {
      "cell_type": "markdown",
      "id": "cca3a8fd-8e42-4a90-a896-93eb3a8b4306",
      "metadata": {},
      "outputs": [],
      "source": [
        "<p>Since ANOVA analyzes the difference between different groups of the same variable, the groupby function will come in handy. Because the ANOVA algorithm averages the data automatically, we do not need to take the average before hand.</p>"
      ]
    },
    {
      "cell_type": "markdown",
      "id": "49f5bc3e-45ab-47e9-8a47-c33f298514fd",
      "metadata": {},
      "outputs": [],
      "source": [
        "We group the data by the values of the categorical variable \"Sales-per-Store-Area-binned\" and compute the mean value for the variable \"Store Sales\" for each group using the mean() method."
      ]
    },
    {
      "cell_type": "code",
      "id": "1ca84f5b-9070-4d58-8ad3-7b3a9eeb7144",
      "metadata": {},
      "outputs": [],
      "source": [
        "df[['Sales-per-Store-Area-binned', 'Store Sales']].groupby('Sales-per-Store-Area-binned').mean()"
      ]
    },
    {
      "cell_type": "markdown",
      "id": "6a8c39dc-5011-4191-9b5f-3f47ce36a344",
      "metadata": {},
      "outputs": [],
      "source": [
        "<p>To see if different types of 'Sales-per-Store-Area-binned' impact  'Store Sales', we group the data.</p> "
      ]
    },
    {
      "cell_type": "code",
      "id": "a422995b-3d12-4af4-9031-a1638660ae0b",
      "metadata": {},
      "outputs": [],
      "source": [
        "grouped_test = df[['Sales-per-Store-Area-binned', 'Store Sales']].groupby('Sales-per-Store-Area-binned')\ngrouped_test.head(5)"
      ]
    },
    {
      "cell_type": "markdown",
      "id": "e2657b9f-2aaa-42dc-a577-19d2f6687844",
      "metadata": {},
      "outputs": [],
      "source": [
        "We can obtain the values of the method group using the method \"get_group\"."
      ]
    },
    {
      "cell_type": "code",
      "id": "7357cdf0-db92-4f9d-8a57-8daf22dbc4e3",
      "metadata": {},
      "outputs": [],
      "source": [
        "grouped_test.get_group('Low')['Store Sales']"
      ]
    },
    {
      "cell_type": "markdown",
      "id": "68ac81a2-83bd-42c4-b9ce-89b56ce10bf5",
      "metadata": {},
      "outputs": [],
      "source": [
        "We can use the function 'f_oneway' in the module 'stats' to obtain the <b>F-test score</b> and <b>P-value</b>.\n"
      ]
    },
    {
      "cell_type": "code",
      "id": "e0b9fe1d-af83-4bbb-8110-e658d4b8c4d7",
      "metadata": {},
      "outputs": [],
      "source": [
        "# ANOVA\nf_val, p_val = stats.f_oneway(grouped_test.get_group('Low')['Store Sales'], grouped_test.get_group('Middle')['Store Sales'], grouped_test.get_group('High')['Store Sales'])  \n \nprint( \"ANOVA results: F=\", f_val, \", P =\", p_val)   "
      ]
    },
    {
      "cell_type": "markdown",
      "id": "d2e77b96-c46d-4e15-8d09-71d738af9060",
      "metadata": {},
      "outputs": [],
      "source": [
        "This is a great result with a large F-test score showing a strong correlation and a P-value of almost 0 implying almost certain statistical significance. But does this mean all three tested groups are all this highly correlated?\n\nLet's examine them separately.\n"
      ]
    },
    {
      "cell_type": "markdown",
      "id": "aceddb2e-7953-498c-8f48-5326e52d5750",
      "metadata": {},
      "outputs": [],
      "source": [
        "#### Low and High\n"
      ]
    },
    {
      "cell_type": "code",
      "id": "4ac68f78-6218-49bb-a50c-501a7413df1d",
      "metadata": {},
      "outputs": [],
      "source": [
        "f_val, p_val = stats.f_oneway(grouped_test.get_group('Low')['Store Sales'], grouped_test.get_group('High')['Store Sales'])\n \nprint( \"ANOVA results: F=\", f_val, \", P =\", p_val )"
      ]
    },
    {
      "cell_type": "markdown",
      "id": "45fc8a22-9e34-498f-9dd8-8f44a3e8de2b",
      "metadata": {},
      "outputs": [],
      "source": [
        "Let's examine the other groups.\n"
      ]
    },
    {
      "cell_type": "markdown",
      "id": "57e71847-33ae-4950-aea8-b1976f6a5521",
      "metadata": {},
      "outputs": [],
      "source": [
        "#### Low and Middle\n"
      ]
    },
    {
      "cell_type": "code",
      "id": "a9ffe7b5-c893-432c-a139-3a831e17c059",
      "metadata": {},
      "outputs": [],
      "source": [
        "f_val, p_val = stats.f_oneway(grouped_test.get_group('Low')['Store Sales'], grouped_test.get_group('Middle')['Store Sales'])\n   \nprint( \"ANOVA results: F=\", f_val, \", P =\", p_val)   "
      ]
    },
    {
      "cell_type": "markdown",
      "id": "619b8fae-8c8a-466d-a5a5-d5197eece976",
      "metadata": {},
      "outputs": [],
      "source": [
        "#### High and Middle\n"
      ]
    },
    {
      "cell_type": "code",
      "id": "d62b889c-5b4f-43c1-91cd-ceb9c38f390e",
      "metadata": {},
      "outputs": [],
      "source": [
        "f_val, p_val = stats.f_oneway(grouped_test.get_group('High')['Store Sales'], grouped_test.get_group('Middle')['Store Sales'])\n \nprint(\"ANOVA results: F=\", f_val, \", P =\", p_val)   "
      ]
    },
    {
      "cell_type": "markdown",
      "id": "bf8a3ecb-b909-4a15-a3f2-34233a99ab7d",
      "metadata": {},
      "outputs": [],
      "source": [
        "### Conclusion: Important Variables\n"
      ]
    },
    {
      "cell_type": "markdown",
      "id": "83b10ffd-9949-4704-98a5-324898920b43",
      "metadata": {},
      "outputs": [],
      "source": [
        "<p>We now have a better idea of what our data looks like and which variables are important to take into account when predicting the store sales. We have narrowed it down to the following variables:</p>\n\nContinuous numerical variables:\n\n<ul>\n    <li>Store Area</li>\n    <li>Daily Customer Count</li>\n    <li>Store Sales</li>\n    <li>Sales per Store Area</li>\n    <li>Revenue per Customer</li>\n</ul>\n\nCategorical variables:\n\n<ul>\n    <li>Sales-per-Store-Area-binned</li>\n    <li>Store-Area-binned</li>\n    <li>Customers-Count-binned</li>\n</ul>\n\n<p>As we now move into building machine learning models to automate our analysis, feeding the model with variables that meaningfully affect our target variable will improve our model's prediction performance.</p>\n"
      ]
    },
    {
      "cell_type": "markdown",
      "id": "1d393b0b-64ee-4c0a-9227-2bcf4eb63d4a",
      "metadata": {},
      "outputs": [],
      "source": [
        "Save the new csv:"
      ]
    },
    {
      "cell_type": "code",
      "id": "5abafa84-0115-4682-a392-2ce38af3cd6c",
      "metadata": {},
      "outputs": [],
      "source": [
        "df.to_csv('Stores.csv')"
      ]
    },
    {
      "cell_type": "markdown",
      "id": "3744e642-c7ca-4136-9427-65b2d2ff24bc",
      "metadata": {},
      "outputs": [],
      "source": [
        "### Thank you for completing this lab!\n\n\n## Author\n\n<a href=\"https://author.skills.network/instructors/ivan_dvylyuk\">Ivan Dvylyuk</a>\n\n### Other Contributors\n\n<a href=\"https://author.skills.network/instructors/yaroslav_vyklyuk_2\">Yaroslav Vyklyuk</a>\n\n<a href=\"https://author.skills.network/instructors/olga_kavun\">Olga Kavun</a>\n\n## Change Log\n\n| Date (YYYY-MM-DD) | Version | Changed By | Change Description                            |\n| ----------------- | ------- | ---------- | --------------------------------------------- |\n| 2023-04-11        | 1.1     | Ivan       | Created the lab                               |\n| 2023-05-23        | 1.2     | Ivan       | Made edits                                    |\n\n\n<hr>\n\n## <h3 align=\"center\"> © IBM Corporation 2023. All rights reserved. <h3/>\n"
      ]
    }
  ],
  "metadata": {
    "language_info": {
      "name": ""
    },
    "kernelspec": {
      "name": "",
      "display_name": ""
    }
  },
  "nbformat": 4,
  "nbformat_minor": 4
}