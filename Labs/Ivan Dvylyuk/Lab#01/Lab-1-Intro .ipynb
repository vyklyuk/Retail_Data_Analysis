{
  "cells": [
    {
      "cell_type": "markdown",
      "id": "6a782980-f5be-4181-aac8-dab71452a4db",
      "metadata": {},
      "outputs": [],
      "source": [
        "<center>\n    <img src=\"https://cf-courses-data.s3.us.cloud-object-storage.appdomain.cloud/assets/logos/SN_web_lightmode.png\" width=\"300\" alt=\"cognitiveclass.ai logo\"  />\n</center>\n\n<h1 style=\"font-size: 36px; font-weight: bold; margin-top: 20px; text-decoration: none; margin-bottom: 25px;\">Forecasting the turnover of supermarkets</h1>\n<h2 style=\"font-size: 32px; font-weight: 500; margin-top: 0;\">Lab. 1. Loading the dataset</h2>\n\nEstimated time needed: **10** minutes\n\n## Context\nIn the dataset, you'll get data of different stores of a supermarket company. Our goals of analysis are:\n<ol>\n    <li>Calculate:</li>\n    <ul>\n    <li>Average sales volume per customer;</li>\n    <li>Average sales volume per 1 square meter of store area;</li>\n    </ul>\n    <li>Investigate how indicators such as the number of customers, the number of products, and the size of store area affect the turnover volume;</li>\n    <li>Calculate the forecast value of turnover for the next period;</li>\n</ol>\n\n\n## Incoming data\n<p>The dataset contains information on sample parameters from 896 supermarkets: store identifier, retail store area, number of product categories for sale, average monthly customer traffic, turnover volume.</p>\n<ul>\n    <li>Store ID: (Index) ID of the particular store;</li>\n    <li>Store Area: Physical Area of the store in yard square;</li>\n    <li>Items Available: Number of different items available in the corresponding store;</li>\n    <li>Daily Customer Count: Number of customers who visited to stores on an average over month;</li>\n    <h3>Target value</h3>\n    <li>Store Sales: Sales in (US $) that stores made;</li>\n</ul>\n <br>"
      ]
    },
    {
      "cell_type": "markdown",
      "id": "aff1d24c-b288-42f2-84dd-291bd03c9667",
      "metadata": {},
      "outputs": [],
      "source": [
        "## Table of Contents\n\n<div class=\"alert alert-block alert-info\" style=\"margin-top: 20px\">\n<ol>\n    <li><a href=\"#data_acquisition\">Data Acquisition</a>\n    <li><a href=\"#basic_insight\">Basic Insight of Dataset</a></li>\n</ol>\n</div>\n<hr>\n"
      ]
    },
    {
      "cell_type": "markdown",
      "id": "5c96e510-f0e5-48a6-b153-243ba1146961",
      "metadata": {},
      "outputs": [],
      "source": [
        "\n<b style=\"font-size: 32px; font-weight: 500; text-decoration: none; padding-top: 20px;\">\n    <a name=\"data_acquisition\" style=\"text-decoration: none;\">\n        <font color=\"black\">Data Acquisition</font>\n    </a>\n</b>\n<p>\nThere are various formats for a dataset: .csv, .json, .xlsx  etc. The dataset can be stored in different places, on your local machine or sometimes online.<br>\n\nIn this section, you will learn how to load a dataset into our Jupyter Notebook.<br>\n\nIn our case, the Store Dataset is an online source, and it is in a CSV (comma separated value) format. Let's use this dataset as an example to practice data reading.\n\n<ul>\n    <li>Data source: <a href=\"https://www.kaggle.com/datasets/surajjha101/stores-area-and-sales-data/download?datasetVersionNumber=1\" target=\"_blank\">https://www.kaggle.com/datasets/surajjha101/stores-area-and-sales-data</a></li>\n    <li>Data type: csv</li>\n    <li>Licence: <a href=\"https://creativecommons.org/licenses/by-sa/3.0/\">CC BY-SA 3.0</a></li>\n</ul>\n\nThis DataSet released under CC0: Public Domain license that allow of copy, modify, distribute and perform the work, even for commercial purposes, all without asking permission.\n\nThe Pandas Library is a useful tool that enables us to read various datasets into a dataframe; our Jupyter notebook platforms have a built-in <b>Pandas Library</b> so that all we need to do is import Pandas without installing.\n</p>\n"
      ]
    },
    {
      "cell_type": "markdown",
      "id": "4009004d-31f3-4b67-ba11-f6f00381e0c7",
      "metadata": {},
      "outputs": [],
      "source": [
        "If you run the lab locally using Anaconda, you can load the correct library and versions by uncommenting the following:\n"
      ]
    },
    {
      "cell_type": "code",
      "id": "d132615e-1485-4d91-9803-913edcd88d82",
      "metadata": {},
      "outputs": [],
      "source": [
        "#install specific version of libraries used in  lab\n#! mamba install pandas==1.3.3  -y\n#! mamba install numpy=1.21.2 -y"
      ]
    },
    {
      "cell_type": "code",
      "id": "e0112edf-95c9-4100-a1ae-dd1531b616ea",
      "metadata": {},
      "outputs": [],
      "source": [
        "# import pandas library\nimport pandas as pd\nimport numpy as np"
      ]
    },
    {
      "cell_type": "markdown",
      "id": "006db848-eecf-4fea-b8f1-1089703eb074",
      "metadata": {},
      "outputs": [],
      "source": [
        "## Read Data\n<p>\nWe use <code>pandas.read_csv()</code> function to read the csv file. In the brackets, we put the file path along with a quotation mark so that pandas will read the file into a dataframe from that address. The file path can be either an URL or your local file address.<br>\n\nBecause the dataframe contains its own index, we can add an argument <code>index_col=0</code> inside the <code>read_csv()</code> method so that pandas will set the first column as the index column.\n\nYou can also assign the dataset to any variable you create.\n\n</p>\n"
      ]
    },
    {
      "cell_type": "code",
      "id": "1e48ee72-035b-4f39-a771-9ec4124fa32e",
      "metadata": {},
      "outputs": [],
      "source": [
        "path = \"https://cf-courses-data.s3.us.cloud-object-storage.appdomain.cloud/IBMSkillsNetwork-GPXX0G2SEN/Stores.csv\""
      ]
    },
    {
      "cell_type": "markdown",
      "id": "509724fa-cb40-422c-bcc7-c5f26f29d1b6",
      "metadata": {},
      "outputs": [],
      "source": [
        "This dataset was hosted on IBM Cloud object. Click <a href=\"https://cocl.us/DA101EN_object_storage?utm_medium=Exinfluencer&utm_source=Exinfluencer&utm_content=000026UJ&utm_term=10006555&utm_id=NA-SkillsNetwork-Channel-SkillsNetworkCoursesIBMDeveloperSkillsNetworkDA0101ENSkillsNetwork20235326-2021-01-01\">HERE</a> for free storage.\n"
      ]
    },
    {
      "cell_type": "code",
      "id": "3740c1e5-fb25-4c3d-a23a-f8e5f67f38cf",
      "metadata": {},
      "outputs": [],
      "source": [
        "# Read the online file by the URL provides above, and assign it to variable \"df\"\ndf = pd.read_csv(path, index_col=0)"
      ]
    },
    {
      "cell_type": "markdown",
      "id": "ea60002c-2cfa-4e73-aafc-90690f5ffdf5",
      "metadata": {},
      "outputs": [],
      "source": [
        "We can use the <code>dataframe.head(n)</code> method to check the top n rows of the dataframe, where n is an integer. Contrary to <code>dataframe.head(n)</code>, <code>dataframe.tail(n)</code> will show you the bottom n rows of the dataframe.\n"
      ]
    },
    {
      "cell_type": "code",
      "id": "83ba5435-a466-4c50-9f38-c9820f4d1756",
      "metadata": {},
      "outputs": [],
      "source": [
        "# show the first 5 rows using dataframe.head() method\nprint(\"The first 5 rows of the dataframe\")\ndf.head(5)"
      ]
    },
    {
      "cell_type": "markdown",
      "id": "1ce54632-627b-46d2-ba51-fa01880eb9f2",
      "metadata": {},
      "outputs": [],
      "source": [
        "<div class=\"alert alert-danger alertdanger\" style=\"margin-top: 20px\">\n<b style=\"font-size: 32px; font-weight: bold;\">Question #1:</b><br>\n<b>Check the bottom 10 rows of data frame \"df\".</b>\n</div>\n"
      ]
    },
    {
      "cell_type": "code",
      "id": "c90906b6-558b-46c6-9dbe-670cb879da44",
      "metadata": {},
      "outputs": [],
      "source": [
        "# Write your code below and press Shift+Enter to execute\n"
      ]
    },
    {
      "cell_type": "markdown",
      "id": "bf617bfc-f90c-4c18-a3dd-ba5042ccc505",
      "metadata": {},
      "outputs": [],
      "source": [
        "<details><summary>Click here for the solution</summary>\n\n```python\nprint(\"The last 10 rows of the dataframe\\n\")\ndf.tail(10)\n```\n"
      ]
    },
    {
      "cell_type": "markdown",
      "id": "a0d7031f-8fa5-4f8f-8917-543b90d43bbc",
      "metadata": {},
      "outputs": [],
      "source": [
        "### Update Headers\n<p>\nTake a look at our dataset. All columns have names that use underscores, and we need to replace the underscores with spaces.\n</p>\n<p>\nThus, we have to change headers manually.\n</p>\n<p>\nFirst, we use the <code>str.replace()</code> method to replace all occurrences of the underscore character in each column name with a space character function. Then, we use <code>dataframe.columns = headers</code> to replace the headers with the list we created.\n</p>\n\n\n"
      ]
    },
    {
      "cell_type": "code",
      "id": "ef7e38e0-bdb8-4ac8-a971-1abfc273e143",
      "metadata": {},
      "outputs": [],
      "source": [
        "headers = df.columns.str.replace('_', ' ')"
      ]
    },
    {
      "cell_type": "markdown",
      "id": "9427865a-4e40-4574-9cdd-c967830313bf",
      "metadata": {},
      "outputs": [],
      "source": [
        "We replace headers and check column names:"
      ]
    },
    {
      "cell_type": "code",
      "id": "3fc41f98-1230-4705-a173-f81fc5a09764",
      "metadata": {},
      "outputs": [],
      "source": [
        "df.columns = headers\nprint(df.columns)"
      ]
    },
    {
      "cell_type": "markdown",
      "id": "0ce32cad-b429-4365-b43a-84ea982e40a7",
      "metadata": {},
      "outputs": [],
      "source": [
        " <div class=\"alert alert-danger alertdanger\" style=\"margin-top: 20px\">\n<b style=\"font-size: 32px; font-weight: bold;\">Question #2:</b><br>\n<b>Capitalize the column names of the dataframe and show all columns name.</b><br>\n<b style=\"font-weight: 600;\">You need to make changes on a temporary variable what is shown in the code block below.</b>\n</div>\n"
      ]
    },
    {
      "cell_type": "code",
      "id": "9cd8c425-4c61-4171-8936-d935d224ec8a",
      "metadata": {},
      "outputs": [],
      "source": [
        "temp = df.copy()\n# Write your code below and press Shift+Enter to execute\n"
      ]
    },
    {
      "cell_type": "markdown",
      "id": "deb7419e-3766-4629-9df8-a7432cfc05f4",
      "metadata": {},
      "outputs": [],
      "source": [
        "<details><summary>Click here for the solution</summary>\n\n```python\ntemp.columns = df.columns.str.upper()\nprint(temp.columns)\n```\n\n</details>\n"
      ]
    },
    {
      "cell_type": "markdown",
      "id": "6a205daf-4c06-4f45-9370-5b01a7e30d57",
      "metadata": {},
      "outputs": [],
      "source": [
        "<b style=\"font-size: 32px; font-weight: 500; text-decoration: none; padding-top: 20px;\">\n    <a name=\"basic_insight\" style=\"text-decoration: none;\">\n        <font color=\"black\">Basic Insight of Dataset</font>\n    </a>\n</b>\n<p>\nAfter reading data into Pandas dataframe, it is time for us to explore the dataset.<br>\n\nThere are several ways to obtain essential insights of the data to help us better understand our dataset.\n\n</p>\n"
      ]
    },
    {
      "cell_type": "markdown",
      "id": "09363fdd-b699-4433-97ca-fa39c8f46c64",
      "metadata": {},
      "outputs": [],
      "source": [
        "## Data Types\n<p>\nData has a variety of types.<br>\n\nThe main types stored in Pandas dataframes are <b>object</b>, <b>float</b>, <b>int</b>, <b>bool</b> and <b>datetime64</b>. In order to better learn about each attribute, it is always good for us to know the data type of each column. In Pandas:\n\n</p>\n"
      ]
    },
    {
      "cell_type": "code",
      "id": "f1c05bc1-5141-46c4-af2d-433eb89326c1",
      "metadata": {},
      "outputs": [],
      "source": [
        "df.dtypes"
      ]
    },
    {
      "cell_type": "markdown",
      "id": "1a814bb0-52f6-4d53-87b8-5ceb05791ea9",
      "metadata": {},
      "outputs": [],
      "source": [
        "A series with the data type of each column is returned.\n"
      ]
    },
    {
      "cell_type": "code",
      "id": "327e7a93-9a86-4a60-9db7-ef53f17c10f2",
      "metadata": {},
      "outputs": [],
      "source": [
        "# check the data type of data frame \"df\" by .dtypes\nprint(df.dtypes)"
      ]
    },
    {
      "cell_type": "markdown",
      "id": "8776f7b7-267a-4368-bae7-8e21d7f4a763",
      "metadata": {},
      "outputs": [],
      "source": [
        "<p>\nAs shown above, it is clear to see that each data type is <code>int64</code>.\n</p>\n\n"
      ]
    },
    {
      "cell_type": "markdown",
      "id": "03e06076-7f1f-4459-9864-881350566748",
      "metadata": {},
      "outputs": [],
      "source": [
        "<h2>Describe</h2>\nIf we would like to get a statistical summary of each column e.g. count, column mean value, column standard deviation, etc., we use the describe method:\n"
      ]
    },
    {
      "cell_type": "code",
      "id": "394c1a54-32bb-48f9-959e-ffeeca82e95e",
      "metadata": {},
      "outputs": [],
      "source": [
        "df.describe()"
      ]
    },
    {
      "cell_type": "markdown",
      "id": "9c25ce53-3102-44f3-9798-83816319dcc2",
      "metadata": {},
      "outputs": [],
      "source": [
        "<p>\nThis shows the statistical summary of all numeric-typed (int, float) columns.<br>\n\nFor example, the attribute \"Daily_Customer_Count\" has 896 counts, the mean value of this column is 786, the standard deviation is 265.38, the minimum value is 10, 25th percentile is 600, 50th percentile is 780, 75th percentile is 970, and the maximum value is 1560. <br>\n"
      ]
    },
    {
      "cell_type": "markdown",
      "id": "368fc570-63f6-4ce7-8513-1806660215b3",
      "metadata": {},
      "outputs": [],
      "source": [
        "<div class=\"alert alert-danger alertdanger\" style=\"margin-top: 20px\">\n<b style=\"font-size: 32px; font-weight: bold;\">Question #3:</b><br>\n\n<p>\nYou can select the columns of a dataframe by indicating the name of each column. For example, you can select the three columns as follows:\n</p>\n<p>\n    <code>dataframe[[' column 1 ',column 2', 'column 3']]</code>\n</p>\n<p>\nWhere \"column\" is the name of the column, you can apply the method  \".describe()\" to get the statistics of those columns as follows:\n</p>\n<p>\n    <code>dataframe[[' column 1 ',column 2', 'column 3'] ].describe()</code>\n</p>\n\nApply the  method to \".describe()\" to the columns 'Store Area' and 'Items Available'.\n\n</div>\n"
      ]
    },
    {
      "cell_type": "code",
      "id": "61507520-9458-4386-a91b-ff3151fcff19",
      "metadata": {},
      "outputs": [],
      "source": [
        "# Write your code below and press Shift+Enter to execute \n"
      ]
    },
    {
      "cell_type": "markdown",
      "id": "8f3b136d-31da-4840-bd64-29ff6d49c326",
      "metadata": {},
      "outputs": [],
      "source": [
        "<details><summary>Click here for the solution</summary>\n\n```python\ndf[['Store Area', 'Items Available']].describe()\n```\n\n</details>\n"
      ]
    },
    {
      "cell_type": "markdown",
      "id": "336f22cf-60b2-4529-8fe8-5f39642970af",
      "metadata": {},
      "outputs": [],
      "source": [
        "## Info\nAnother method you can use to check your dataset is:\n"
      ]
    },
    {
      "cell_type": "raw",
      "id": "772d7a6f-d01b-4650-9a25-d179270c3943",
      "metadata": {},
      "outputs": [],
      "source": [
        "dataframe.info()"
      ]
    },
    {
      "cell_type": "markdown",
      "id": "31a0aef1-f623-4219-8748-72dd2afb51c1",
      "metadata": {},
      "outputs": [],
      "source": [
        "It provides a concise summary of your DataFrame.\n\nThis method prints information about a DataFrame including the index dtype and columns, non-null values and memory usage.\n"
      ]
    },
    {
      "cell_type": "code",
      "id": "2d584132-ca09-4296-b864-133923f63dfd",
      "metadata": {},
      "outputs": [],
      "source": [
        "# look at the info of \"df\"\ndf.info()"
      ]
    },
    {
      "cell_type": "markdown",
      "id": "e0fd3037-faa2-4679-9f2f-2999deb3cf57",
      "metadata": {},
      "outputs": [],
      "source": [
        "## Save Dataset\n<p>\nCorrespondingly, Pandas enables us to save the dataset to csv. By using the <code>dataframe.to_csv()</code> method, you can also add the file path and name along with quotation marks in the brackets.\n</p>\n"
      ]
    },
    {
      "cell_type": "code",
      "id": "13c3f32b-ff49-427f-a08e-5904029edf4d",
      "metadata": {},
      "outputs": [],
      "source": [
        "df.to_csv(\"Stores.csv\")"
      ]
    },
    {
      "cell_type": "markdown",
      "id": "b0c20442-adea-4ae7-8b23-5698e30c0c98",
      "metadata": {},
      "outputs": [],
      "source": [
        "We can also read and save other file formats. We can use similar functions like **`pd.read_csv()`** and **`df.to_csv()`** for other data formats. The functions are listed in the following table:"
      ]
    },
    {
      "cell_type": "markdown",
      "id": "07ee51ba-e742-4eb7-93a8-8600b89a3d5d",
      "metadata": {},
      "outputs": [],
      "source": [
        "## Read/Save Other Data Formats\n\n| Data Formate |        Read       |            Save |\n| ------------ | :---------------: | --------------: |\n| csv          |  `pd.read_csv()`  |   `df.to_csv()` |\n| json         |  `pd.read_json()` |  `df.to_json()` |\n| excel        | `pd.read_excel()` | `df.to_excel()` |\n| hdf          |  `pd.read_hdf()`  |   `df.to_hdf()` |\n| sql          |  `pd.read_sql()`  |   `df.to_sql()` |\n| ...          |        ...        |             ... |\n"
      ]
    },
    {
      "cell_type": "markdown",
      "id": "2aadd322-5382-4a66-956f-99aef20b4c76",
      "metadata": {},
      "outputs": [],
      "source": [
        "# Excellent! You have just made first steps in DA!\n"
      ]
    },
    {
      "cell_type": "markdown",
      "id": "07f2935c-b4cd-4ed8-a7c7-ed5934b659f6",
      "metadata": {},
      "outputs": [],
      "source": [
        "### Thank you for completing this lab!\n\n\n## Author\n\n<a href=\"https://author.skills.network/instructors/ivan_dvylyuk\">Ivan Dvylyuk</a>\n\n### Other Contributors\n\n<a href=\"https://author.skills.network/instructors/yaroslav_vyklyuk_2\">Yaroslav Vyklyuk</a>\n\n<a href=\"https://author.skills.network/instructors/olga_kavun\">Olga Kavun</a>\n\n## Change Log\n\n| Date (YYYY-MM-DD) | Version | Changed By | Change Description                            |\n| ----------------- | ------- | ---------- | --------------------------------------------- |\n| 2023-03-24        | 1.0     | Ivan       | Created the lab                               |\n\n\n<hr>\n\n## <h3 align=\"center\"> © IBM Corporation 2023. All rights reserved. <h3/>\n"
      ]
    }
  ],
  "metadata": {
    "language_info": {
      "name": ""
    },
    "kernelspec": {
      "name": "",
      "display_name": ""
    }
  },
  "nbformat": 4,
  "nbformat_minor": 4
}