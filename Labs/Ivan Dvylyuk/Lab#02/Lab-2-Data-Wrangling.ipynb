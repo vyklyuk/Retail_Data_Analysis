{
  "cells": [
    {
      "cell_type": "markdown",
      "id": "f35495c6-33b9-4d65-8bf4-ad99d6429ab9",
      "metadata": {},
      "outputs": [],
      "source": [
        "<center>\n    <img src=\"https://cf-courses-data.s3.us.cloud-object-storage.appdomain.cloud/assets/logos/SN_web_lightmode.png\" width=\"300\" alt=\"cognitiveclass.ai logo\"  />\n</center>\n\n<h1 style=\"font-size: 36px; font-weight: bold; margin-top: 20px; text-decoration: none; margin-bottom: 25px;\">Forecasting the turnover of supermarkets</h1>\n<h2 style=\"font-size: 32px; font-weight: 500; margin-top: 0;\">Lab. 2. Data Wrangling</h2>\n\nEstimated time needed: **30** minutes\n\n## Context\n<details><summary>Click here to learn more about the purpose of the labs</summary>\n\nIn the dataset, you'll get data of different stores of a supermarket company. Our goals of analysis are:\n<ol>\n    <li>Calculate:</li>\n    <ul>\n    <li>Average sales volume per customer;</li>\n    <li>Average sales volume per 1 square meter of store area;</li>\n    </ul>\n    <li>Investigate how indicators such as the number of customers, the number of products, and the size of store area affect the turnover volume;</li>\n    <li>Calculate the forecast value of turnover for the next period;</li>\n</ol>\n    \n</details>\n\n## Incoming data\n<details><summary>Click here to learn more about the incoming data</summary>\n\n<p>The dataset contains information on sample parameters from 896 supermarkets: store identifier, retail store area, number of product categories for sale, average monthly customer traffic, turnover volume.</p>\n<ul>\n    <li>Store ID: (Index) ID of the particular store;</li>\n    <li>Store Area: Physical Area of the store in yard square;</li>\n    <li>Items Available: Number of different items available in the corresponding store;</li>\n    <li>Daily Customer Count: Number of customers who visited to stores on an average over month;</li>\n    <h3>Target value</h3>\n    <li>Store Sales: Sales in (US $) that stores made;</li>\n</ul>\n    \n</details>\n\n\n"
      ]
    },
    {
      "cell_type": "markdown",
      "id": "f9ad6ce3-69d9-4294-bf30-d4c0bab950e6",
      "metadata": {},
      "outputs": [],
      "source": [
        "<h2>Table of Contents</h2>\n\n<div class=\"alert alert-block alert-info\" style=\"margin-top: 20px\">\n<ol>\n    <li><a href=\"#data_acquisition\">Data Acquisition</a></li>\n    <li><a href=\"#identify_missing_values\">Identify missing values</a></li>\n        <li><a href=\"#add_new_column\">Adding new column</a></li>\n    <li><a href=\"#sort_data\">Sorting Data</a></li>\n    <li><a href=\"#data_normalization\">Data normalization</a></li>\n    <li><a href=\"#binning\">Binning</a></li>\n    <li><a href=\"#groping_data\">Groung Data</a></li>\n</ol>\n\n</div>\n\n<hr>\n"
      ]
    },
    {
      "cell_type": "markdown",
      "id": "97f56564-114f-4c98-b94f-6940ecc859da",
      "metadata": {},
      "outputs": [],
      "source": [
        "\n<b style=\"font-size: 32px; font-weight: 500; text-decoration: none; padding-top: 20px;\">\n    <a name=\"data_acquisition\" style=\"text-decoration: none;\">\n        <font color=\"black\">Data Acquisition</font>\n    </a>\n</b>\n<details><summary>Сlick here to learn more about the dataframe</summary>\n<br>   \n<p>In our case, the Store Dataset is an online source, and it is in a CSV (comma separated value) format. We use this dataset as an example to practice data reading. </p>\n\n<ul>\n    <li>Data source: <a href=\"https://www.kaggle.com/datasets/surajjha101/stores-area-and-sales-data/download?datasetVersionNumber=1\" target=\"_blank\">https://www.kaggle.com/datasets/surajjha101/stores-area-and-sales-data</a></li>\n    <li>Data type: csv</li>\n    <li>Licence: <a href=\"https://creativecommons.org/licenses/by-sa/3.0/\">CC BY-SA 3.0</a></li>\n</ul>\n \n<p>This DataSet released under CC0: Public Domain license that allow of copy, modify, distribute and perform the work, even for commercial purposes, all without asking permission.</p>\n\n\n\n\n    \n</details>"
      ]
    },
    {
      "cell_type": "markdown",
      "id": "8be6e12a-e5b2-42fe-9fb7-ef8933abd413",
      "metadata": {},
      "outputs": [],
      "source": [
        "## What is the purpose of data wrangling?\n"
      ]
    },
    {
      "cell_type": "markdown",
      "id": "b7a5a9c4-1310-4758-af40-1911fb9ef3a8",
      "metadata": {},
      "outputs": [],
      "source": [
        "Data wrangling is the process of converting data from the initial format to a format that may be better for analysis.\n"
      ]
    },
    {
      "cell_type": "markdown",
      "id": "895ce13c-3987-417d-a18a-fe5b7251db52",
      "metadata": {},
      "outputs": [],
      "source": [
        "### Import data\n<p>\nYou can find the \"Supermarket store branches sales analysis Dataset\" from the following link: <a href=\"https://www.kaggle.com/datasets/surajjha101/stores-area-and-sales-data/code\">link</a>. \nWe will be using this dataset throughout this course.\n</p>\n"
      ]
    },
    {
      "cell_type": "markdown",
      "id": "9fa5f30e-17ad-43d0-b855-569d0f5e8f5b",
      "metadata": {},
      "outputs": [],
      "source": [
        "### Import libraries \n"
      ]
    },
    {
      "cell_type": "markdown",
      "id": "2c8a6899-0481-4733-adba-d7561e0542a4",
      "metadata": {},
      "outputs": [],
      "source": [
        "If you run the lab locally using Anaconda, you can load the correct library and versions by uncommenting the following:\n"
      ]
    },
    {
      "cell_type": "code",
      "id": "50648bf9-1e68-4c12-98f3-9b6e24e1bad1",
      "metadata": {},
      "outputs": [],
      "source": [
        "#If you run the lab locally using Anaconda, you can load the correct library and versions by uncommenting the following:\n#install specific version of libraries used in lab\n#! mamba install pandas==1.3.3 -y\n#! mamba install numpy=1.21.2 -y\n "
      ]
    },
    {
      "cell_type": "code",
      "id": "5f6c6890-c24a-4234-92cd-f340c1d1d707",
      "metadata": {},
      "outputs": [],
      "source": [
        "import pandas as pd\nimport numpy as np\nimport matplotlib.pyplot as plt\nimport warnings\nwarnings.filterwarnings('ignore')"
      ]
    },
    {
      "cell_type": "markdown",
      "id": "5c611fce-de37-4e92-b7e5-28d111a1fd8d",
      "metadata": {},
      "outputs": [],
      "source": [
        "### Reading the dataset from the URL\n"
      ]
    },
    {
      "cell_type": "markdown",
      "id": "12057c29-f25b-4561-bf97-03d81ed1c2d7",
      "metadata": {},
      "outputs": [],
      "source": [
        "First, we assign the URL of the dataset to \"filename\".\n"
      ]
    },
    {
      "cell_type": "markdown",
      "id": "05d15a2b-68d4-4e01-914b-fe6385610c4d",
      "metadata": {},
      "outputs": [],
      "source": [
        "This dataset was hosted on IBM Cloud object. Click <a href=\"https://cf-courses-data.s3.us.cloud-object-storage.appdomain.cloud/IBMSkillsNetwork-GPXX0QTOEN/Stores.csv\">HERE</a> for free storage.\n"
      ]
    },
    {
      "cell_type": "code",
      "id": "ec72fecf-f0a0-4919-98e3-18c96692593f",
      "metadata": {},
      "outputs": [],
      "source": [
        "filename = \"https://cf-courses-data.s3.us.cloud-object-storage.appdomain.cloud/IBMSkillsNetwork-GPXX0QTOEN/Stores.csv\""
      ]
    },
    {
      "cell_type": "markdown",
      "id": "63f496ba-6d63-4981-b6b2-3bceb3cb4a8b",
      "metadata": {},
      "outputs": [],
      "source": [
        "Use the Pandas method <b>read_csv()</b> to load the data from the web address. Set the parameter \"index_col\" equal 0 so that pandas will set the first column as the index column.\n"
      ]
    },
    {
      "cell_type": "code",
      "id": "7a67b9b9-dc26-403d-8ac8-9b396db0397e",
      "metadata": {},
      "outputs": [],
      "source": [
        "df = pd.read_csv(filename, index_col=0)"
      ]
    },
    {
      "cell_type": "markdown",
      "id": "a4c51fe1-f405-41e6-bf07-d3f31fd5e73e",
      "metadata": {},
      "outputs": [],
      "source": [
        "Before starting to perform operations on the data, we need to ensure that our dataframe is ready for further analysis.\n\n<div>We need to check if the data contains any missing values or type mismatches, and if so, we need to address these issues.</div> \n\n<b>How to work with missing data?</b>\n\nSteps for working with missing data:\n\n<ol>\n    <li>Identify missing data</li>\n    <li>Deal with missing data</li>\n    <li>Correct data format</li>\n</ol>\n"
      ]
    },
    {
      "cell_type": "markdown",
      "id": "77a624df-6cbe-42e9-b8a5-5ddcf8de7569",
      "metadata": {},
      "outputs": [],
      "source": [
        "\n<b style=\"font-size: 32px; font-weight: 500; text-decoration: none; padding-top: 20px;\">\n    <a name=\"identify_missing_values\" style=\"text-decoration: none;\">\n        <font color=\"black\">Identify missing values</font>\n    </a>\n</b><br>\nThe missing values are converted by default. We use the following functions to identify these missing values. There are two methods to detect missing data:\n\n<ol>\n    <li><b>.isnull()</b></li>\n    <li><b>.notnull()</b></li>\n</ol>\nThe output is a boolean value indicating whether the value that is passed into the argument is in fact missing data.\n"
      ]
    },
    {
      "cell_type": "code",
      "id": "2c3d0b34-ddf5-478d-97e5-cca2ff50122c",
      "metadata": {},
      "outputs": [],
      "source": [
        "missing_data = df.isnull()\nmissing_data.head(5)"
      ]
    },
    {
      "cell_type": "markdown",
      "id": "368518db-c019-4a81-9648-9122902bcb82",
      "metadata": {},
      "outputs": [],
      "source": [
        "\"True\" means the value is a missing value while \"False\" means the value is not a missing value.\n"
      ]
    },
    {
      "cell_type": "markdown",
      "id": "77e72956-cb51-4595-af0d-ee8b193ecdec",
      "metadata": {},
      "outputs": [],
      "source": [
        "### Count missing values in each column\n<p>\nUsing a for loop in Python, we can quickly figure out the number of missing values in each column. As mentioned above, \"True\" represents a missing value and \"False\" means the value is present in the dataset.  In the body of the for loop the method \".value_counts()\" counts the number of \"True\" values. \n</p>\n"
      ]
    },
    {
      "cell_type": "code",
      "id": "d1936c21-f9ea-4ab2-8c81-1c30dcdbbb5c",
      "metadata": {},
      "outputs": [],
      "source": [
        "for column in missing_data.columns.values.tolist():\n    print(column)\n    print (missing_data[column].value_counts())\n    print(\"\")    "
      ]
    },
    {
      "cell_type": "markdown",
      "id": "9b980408-b76c-4c82-8b1c-08167f8ac0b1",
      "metadata": {},
      "outputs": [],
      "source": [
        "Based on the summary above, each column has 896 rows of data and no column containing any missing data:\n\n<ol>\n    <li>\"Store Area\": 0 missing data</li>\n    <li>\"Items Available\": 0 missing data</li>\n    <li>\"Daily Customer Count\": 0 missing data</li>\n    <li>\"Store Sales\" : 0 missing data</li>\n</ol>\n\n<b>Great!</b> We have a dataset with no missing values"
      ]
    },
    {
      "cell_type": "markdown",
      "id": "4c4ca135-de43-4337-9bd2-793408e7bd2a",
      "metadata": {},
      "outputs": [],
      "source": [
        "### Correct data format\n\n<p>The last step in data cleaning is checking and making sure that all data is in the correct format (int, float, text or other).</p>\n\nIn Pandas, we use:\n\n<p><b>.dtype()</b> to check the data type</p>\n<p><b>.astype()</b> to change the data type</p>\n"
      ]
    },
    {
      "cell_type": "markdown",
      "id": "17866790-db81-40b4-928a-fcb240f11924",
      "metadata": {},
      "outputs": [],
      "source": [
        "### Let's list the data types for each column\n"
      ]
    },
    {
      "cell_type": "code",
      "id": "969de7c3-b9af-4c8d-a64f-2d0f31c3db69",
      "metadata": {},
      "outputs": [],
      "source": [
        "df.dtypes"
      ]
    },
    {
      "cell_type": "markdown",
      "id": "792534c3-2820-4d1c-8fe9-50e989219630",
      "metadata": {},
      "outputs": [],
      "source": [
        "<p>As all the columns in our DataFrame consist of integers, the output confirms that all the data is of the correct data type, and there is no need to make any modifications.</p> \n"
      ]
    },
    {
      "cell_type": "markdown",
      "id": "921aaa35-3cf1-41a8-acf4-76d3fb87eb3d",
      "metadata": {},
      "outputs": [],
      "source": [
        "\n<b style=\"font-size: 32px; font-weight: 500; text-decoration: none; padding-top: 20px;\">\n    <a name=\"add_new_column\" style=\"text-decoration: none;\">\n        <font color=\"black\">Adding new column</font>\n    </a>\n</b><br>\n\n<p><b>Target:</b> Add a column that represents the average amount of sales per customer by dividing the \"Store Sales\" column by the \"Daily Customer Count\" column</p>"
      ]
    },
    {
      "cell_type": "markdown",
      "id": "ab203503-be0a-4030-9b8e-716ef3371a12",
      "metadata": {},
      "outputs": [],
      "source": [
        "To add a column to a Pandas dataframe, you can use the bracket notation and assign a value or a list of values to the new column label. So"
      ]
    },
    {
      "cell_type": "raw",
      "id": "9613a512-4f6f-4e7a-a2fb-fdba7cdb5e13",
      "metadata": {},
      "outputs": [],
      "source": [
        "df['new_column'] = some_values"
      ]
    },
    {
      "cell_type": "markdown",
      "id": "4f35edfe-c6d0-4fca-86d7-2aee4d0fc019",
      "metadata": {},
      "outputs": [],
      "source": [
        "Let's calculate the average sales volume per customer and add the values to a new column:"
      ]
    },
    {
      "cell_type": "code",
      "id": "45343829-b6c0-442d-9436-b833a36e6ee3",
      "metadata": {},
      "outputs": [],
      "source": [
        "df['Revenue per Customer'] = df['Store Sales'] / df['Daily Customer Count']\ndf.head(10)"
      ]
    },
    {
      "cell_type": "markdown",
      "id": "63843bb8-8f51-421c-ac4c-792425c1dd9f",
      "metadata": {},
      "outputs": [],
      "source": [
        "To add a new column at a specific position, you can use the <code>insert()</code> method. This method takes three arguments: the position at which to insert the column, the name of the new column, and the data to populate the new column."
      ]
    },
    {
      "cell_type": "markdown",
      "id": "f820e26d-c86a-4620-9a30-704db9dd473a",
      "metadata": {},
      "outputs": [],
      "source": [
        "<div class=\"alert alert-danger alertdanger\" style=\"margin-top: 20px\">\n<b style=\"font-size: 32px; font-weight: bold;\"> Question #1: </b>\n\n<b>Add a new column 'Sales per Store Area' for the average sales volume per 1 square meter of the sales area ('Store Sales divided by 'Store Area') to the second-to-last position</b>\n\n</div>\n"
      ]
    },
    {
      "cell_type": "code",
      "id": "5a8367a7-cbf4-4b0b-a6c4-da33ce48ce32",
      "metadata": {},
      "outputs": [],
      "source": [
        "# Write your code below and press Shift+Enter to execute \n"
      ]
    },
    {
      "cell_type": "markdown",
      "id": "68e5bf84-6a71-4d56-a9c3-34a364a818e8",
      "metadata": {},
      "outputs": [],
      "source": [
        "<details><summary>Click here for the solution</summary>\n\n```python\ndf.insert(len(df.columns)-1, 'Sales per Store Area', df['Store Sales'] / df['Store Area'])\ndf.head(10)\n```\n\n</details>\n"
      ]
    },
    {
      "cell_type": "markdown",
      "id": "ad3de9ba-a537-4e1b-aab0-1f835ebf92bd",
      "metadata": {},
      "outputs": [],
      "source": [
        "\n<b style=\"font-size: 32px; font-weight: 500; text-decoration: none; padding-top: 20px;\">\n    <a name=\"sort_data\" style=\"text-decoration: none;\">\n        <font color=\"black\">Sorting Data</font>\n    </a>\n</b><br>\n<b>What is data sorting?</b>\n<p>\n    Sorting refers to the process of arranging or reordering the rows and columns of a DataFrame based on certain criteria.\n</p>\n<b>Why we use sorting?</b>\n<p>\n    It allows us to quickly identify the highest or lowest values, the most frequent categories, and the relationships between different variables.\n</p>\n\n<b>Example:</b>\n<p>In our dataset, all \"Store Area\" values are ordered by index. But what if we want to find out which store has the largest/smallest area?</p>\n"
      ]
    },
    {
      "cell_type": "markdown",
      "id": "538fa894-4b36-4302-acf1-99da9bb33450",
      "metadata": {},
      "outputs": [],
      "source": [
        "### Sorting by a Single Column\n<p>To sort the dataframe by a single column, you can use the <code>sort_values()</code> method. Let's sort our dataframe by the \"Store Area\" column in descending order:</p>"
      ]
    },
    {
      "cell_type": "code",
      "id": "515cf34b-efe1-4d13-9185-42226e634faa",
      "metadata": {},
      "outputs": [],
      "source": [
        "df.sort_values(by='Store Area', ascending=False)"
      ]
    },
    {
      "cell_type": "markdown",
      "id": "edf6cb09-398d-49cb-8fc7-2b52e4c0b90b",
      "metadata": {},
      "outputs": [],
      "source": [
        "<p>Note that we set <code>ascending=False</code> to sort in descending order. If you want to sort in ascending order, you can simply omit the ascending parameter or set it to \"True\".<p>"
      ]
    },
    {
      "cell_type": "markdown",
      "id": "a5fc9b0b-919a-4920-a5b3-188f3cad0f49",
      "metadata": {},
      "outputs": [],
      "source": [
        "### Sorting by Multiple Columns\n<p>You can also sort a DataFrame by multiple columns. For example, let's sort our dataframe first by \"Items Available\" in ascending order, and then by \"Daily Customer Count\" in descending order</p>"
      ]
    },
    {
      "cell_type": "code",
      "id": "e982abf9-8e82-4376-8d75-298908f058d6",
      "metadata": {},
      "outputs": [],
      "source": [
        "df.sort_values(by=['Items Available', 'Daily Customer Count'], ascending=[True, False])"
      ]
    },
    {
      "cell_type": "markdown",
      "id": "49d693c4-f905-4946-a000-2ba1fba6ced2",
      "metadata": {},
      "outputs": [],
      "source": [
        "<div class=\"alert alert-danger alertdanger\" style=\"margin-top: 20px\">\n<b style=\"font-size: 32px; font-weight: bold;\"> Question #2: </b>\n\n<b>Sort the dataframe by the Store Area column in descending order and the Store Sale column in ascending order.</b><br>\n    \n</div>\n"
      ]
    },
    {
      "cell_type": "code",
      "id": "ae5a3a71-6964-4242-806e-71fa52e66978",
      "metadata": {},
      "outputs": [],
      "source": [
        "# Write your code below and press Shift+Enter to execute \n"
      ]
    },
    {
      "cell_type": "markdown",
      "id": "24002baf-2fdb-4302-ac76-e950b1193c45",
      "metadata": {},
      "outputs": [],
      "source": [
        "<details><summary>Click here for the solution</summary>\n\n```python\ndf.sort_values(by=['Store Area', 'Store Sales'], ascending=[False, True])\n```\n\n</details>\n"
      ]
    },
    {
      "cell_type": "markdown",
      "id": "21595cef-e04a-40fe-8876-2b8119f20edb",
      "metadata": {},
      "outputs": [],
      "source": [
        "\n<b style=\"font-size: 32px; font-weight: 500; text-decoration: none; padding-top: 20px;\">\n    <a name=\"data_normalization\" style=\"text-decoration: none;\">\n        <font color=\"black\">Data Normalization</font>\n    </a>\n</b><br>\n<b>Why normalization?</b>\n\n<p>Normalization is the process of transforming values of several variables into a similar range. Typical normalizations include scaling the variable so the variable average is 0, scaling the variable so the variance is 1, or scaling the variable so the variable values range from 0 to 1.\n</p>\n\n<b>Example</b>\n\n<p>To demonstrate normalization, let's say we want to scale the column \"Store Sales\".</p>\n<p><b>Target:</b> would like to normalize this variable so its value ranges from 0 to 1</p>\n\n"
      ]
    },
    {
      "cell_type": "markdown",
      "id": "498941d7-70d1-41a2-ad97-f2d04fd1c0d1",
      "metadata": {},
      "outputs": [],
      "source": [
        "<b>We can use two main approaches for normalization:</b>\n<ol>\n    <li>replacing original value by (original value)/(maximum value)</li>\n</ol>"
      ]
    },
    {
      "cell_type": "code",
      "id": "9436771f-0f31-4792-9288-1bd4cf62aa12",
      "metadata": {},
      "outputs": [],
      "source": [
        "# replace (original value) by (original value)/(maximum value)\nnorm = df['Store Sales']/df['Store Sales'].max()\nprint(norm)"
      ]
    },
    {
      "cell_type": "markdown",
      "id": "9d57485d-e160-439e-b7ae-bba2bee05620",
      "metadata": {},
      "outputs": [],
      "source": [
        "<ol start=2>\n    <li>using the <code>preprocessing</code> module from the scikit-learn library</li>\n</ol>"
      ]
    },
    {
      "cell_type": "code",
      "id": "fee5ad7a-ad97-4d02-a49c-0fd60e1d9ed5",
      "metadata": {},
      "outputs": [],
      "source": [
        "from sklearn import preprocessing\nscaler = preprocessing.MinMaxScaler(feature_range=(0, 1))\nnorm = scaler.fit_transform(df[['Store Sales']])\nprint(norm[0:10])"
      ]
    },
    {
      "cell_type": "markdown",
      "id": "52efbff7-761a-4507-becf-ec0ebffbdcd9",
      "metadata": {},
      "outputs": [],
      "source": [
        "<p>\nHere we use the <code>MinMaxScaler</code> class, which performs scaling using minimum and maximum values.\n\nThe <code>fit_transform()</code> method performs two actions: first, it computes the minimum and maximum values for the 'Store Sales' column in the dataframe, and then it scales the values of this column to the range of 0 to 1.\n</p>"
      ]
    },
    {
      "cell_type": "markdown",
      "id": "658d4460-6452-4cef-8fc4-8edb8cd98995",
      "metadata": {},
      "outputs": [],
      "source": [
        "<div class=\"alert alert-danger alertdanger\" style=\"margin-top: 20px\">\n<b style=\"font-size: 32px; font-weight: bold;\"> Question #3: </b>\n\n<b>According to the first example above, normalize the column \"Store Area\".</b>\n\n</div>\n"
      ]
    },
    {
      "cell_type": "code",
      "id": "30f5c614-c2b0-4085-aeff-1d878fb0b3f4",
      "metadata": {},
      "outputs": [],
      "source": [
        "# Write your code below and press Shift+Enter to execute \n"
      ]
    },
    {
      "cell_type": "markdown",
      "id": "1fa402b7-8c5a-404a-b953-9dc111838df6",
      "metadata": {},
      "outputs": [],
      "source": [
        "<details><summary>Click here for the solution</summary>\n\n```python\nnorm = df['Store Area']/df['Store Area'].max()\nnorm\n```\n\n</details>\n"
      ]
    },
    {
      "cell_type": "markdown",
      "id": "c6a36dcf-9b3b-4437-8842-273ed70355d3",
      "metadata": {},
      "outputs": [],
      "source": [
        "\n<b style=\"font-size: 32px; font-weight: 500; text-decoration: none; padding-top: 20px;\">\n    <a name=\"binning\" style=\"text-decoration: none;\">\n        <font color=\"black\">Binning</font>\n    </a>\n</b><br>\n<b>Why binning?</b>\n<p>\n    Binning is a process of transforming continuous numerical variables into discrete categorical 'bins' for grouped analysis.\n</p>\n\n<b>Example: </b>\n\n<p>In our dataset, \"Store Area\" is a real valued variable ranging from 775 to 2229. What if we only care about the stores with large, medium, or small area?(3 types)? Can we rearrange them into three ‘bins' to simplify analysis? </p>\n\n<p>We will use the pandas method 'cut' to segment the 'Store Area' column into 3 bins.</p>\n"
      ]
    },
    {
      "cell_type": "markdown",
      "id": "05f44426-5cdb-4ba4-bf69-f9f7a7c5961a",
      "metadata": {},
      "outputs": [],
      "source": [
        "### Example of Binning Data In Pandas\n"
      ]
    },
    {
      "cell_type": "markdown",
      "id": "c7741079-353a-4b2a-ae94-3021f7fc4457",
      "metadata": {},
      "outputs": [],
      "source": [
        "Let's plot the histogram of 'Sales per Store Area' to see the sales volume per unit area of the stores.\n"
      ]
    },
    {
      "cell_type": "code",
      "id": "eb2840e9-2f74-4a1f-8c9b-22297edf81a7",
      "metadata": {},
      "outputs": [],
      "source": [
        "import matplotlib.pyplot as plt\n\nplt.hist(df[\"Sales per Store Area\"])\n\n# Set x/y labels and plot title\nplt.xlabel(\"Sales per Store Area\")\nplt.ylabel(\"Amount\")\nplt.title(\"Sales per Store Area bins\")"
      ]
    },
    {
      "cell_type": "markdown",
      "id": "ef7e7886-de4f-4abf-acd2-ef1baf7c67fd",
      "metadata": {},
      "outputs": [],
      "source": [
        "<p>We would like 3 bins of equal size bandwidth so we use numpy's <code>linspace(start_value, end_value, numbers_generated</code> function.</p>\n<p>Since we want to include the minimum value, we want to set start_value = min(df[\"Sales per Store Area\"]).</p>\n<p>Since we want to include the maximum value, we want to set end_value = max(df[\"Sales per Store Area\"]).</p>\n<p>Since we are building 3 bins of equal length, there should be 4 dividers, so numbers_generated = 4.</p>\n"
      ]
    },
    {
      "cell_type": "code",
      "id": "da07e16f-a477-449a-bf68-0056a393cd72",
      "metadata": {},
      "outputs": [],
      "source": [
        "import math\nsales_area_bins = np.linspace(math.floor(min(df[\"Sales per Store Area\"])), max(df[\"Sales per Store Area\"]), 4)\nsales_area_bins"
      ]
    },
    {
      "cell_type": "markdown",
      "id": "3da211c4-c273-4105-84fa-6abdf4484685",
      "metadata": {},
      "outputs": [],
      "source": [
        "We set group  names:\n"
      ]
    },
    {
      "cell_type": "code",
      "id": "24240dc4-806a-4f0a-a003-634bb3cceb0c",
      "metadata": {},
      "outputs": [],
      "source": [
        "sales_area_labels = ['Low', 'Middle', 'High']"
      ]
    },
    {
      "cell_type": "markdown",
      "id": "cff072ee-f5af-410e-8e04-5386417b3a8b",
      "metadata": {},
      "outputs": [],
      "source": [
        "We apply the function \"cut\" to determine what each value of `df[\"Sales per Store Area\"]` belongs to.\n"
      ]
    },
    {
      "cell_type": "code",
      "id": "4419ac96-4e7d-4629-9514-6266041fae31",
      "metadata": {},
      "outputs": [],
      "source": [
        "df[\"Sales-per-Store-Area-binned\"] = pd.cut(df['Sales per Store Area'], bins=sales_area_bins, labels=sales_area_labels)\ndf[['Sales per Store Area',\"Sales-per-Store-Area-binned\"]].head(853)"
      ]
    },
    {
      "cell_type": "markdown",
      "id": "02aa23ab-130f-485f-9ec2-f8c64d5e6069",
      "metadata": {},
      "outputs": [],
      "source": [
        "Let's see the number of stores in each bin:\n"
      ]
    },
    {
      "cell_type": "code",
      "id": "b0b48034-2786-492b-bf77-d107e1a835ca",
      "metadata": {},
      "outputs": [],
      "source": [
        "df[\"Sales-per-Store-Area-binned\"].value_counts()"
      ]
    },
    {
      "cell_type": "markdown",
      "id": "c56d3dfd-2e61-4821-8e03-702e1270171b",
      "metadata": {},
      "outputs": [],
      "source": [
        "Let's plot the distribution of each bin:\n"
      ]
    },
    {
      "cell_type": "code",
      "id": "5a5f3d53-5ed0-4963-8f21-1f4af0b13ee2",
      "metadata": {},
      "outputs": [],
      "source": [
        "plt.bar(sales_area_labels, df[\"Sales-per-Store-Area-binned\"].value_counts())\n\n# set x/y labels and plot title\nplt.xlabel(\"Sales per Store Area\")\nplt.ylabel(\"Amount\")\nplt.title(\"Sales per Store Area bins\")"
      ]
    },
    {
      "cell_type": "markdown",
      "id": "632fcc32-e357-4bf0-abf1-c6c08a885df2",
      "metadata": {},
      "outputs": [],
      "source": [
        "<p>\nLook at the dataframe above carefully. You will find that the last column provides the bins for 'Sales per Store Area' based on 3 categories (\"Low\", \"Middle\" and \"High\"). \n</p>\n\n"
      ]
    },
    {
      "cell_type": "markdown",
      "id": "73f6774d-d87a-443e-aedd-eb53fdfb2817",
      "metadata": {},
      "outputs": [],
      "source": [
        "### Bins Visualization\nNormally, a histogram is used to visualize the distribution of bins we created above. \n"
      ]
    },
    {
      "cell_type": "code",
      "id": "7f9ef278-ccb2-426c-8ba7-71cdbaaf5e05",
      "metadata": {},
      "outputs": [],
      "source": [
        "# draw historgram of attribute \"Store Area\" with bins = 3\nplt.hist(df[\"Sales per Store Area\"], bins = 3)\n\n# set x/y labels and plot title\nplt.xlabel(\"Sales per Store Area\")\nplt.ylabel(\"Amount\")\nplt.title(\"Sales per Store Area bins\")"
      ]
    },
    {
      "cell_type": "markdown",
      "id": "73e8996c-c420-4a73-8d10-feb904a70bb3",
      "metadata": {},
      "outputs": [],
      "source": [
        "The plot above shows the binning result for the attribute 'Sales per Store Area'.\n"
      ]
    },
    {
      "cell_type": "markdown",
      "id": "95b9579b-2f0c-420b-a6d6-70ebb42e5f39",
      "metadata": {},
      "outputs": [],
      "source": [
        "<div class=\"alert alert-danger alertdanger\" style=\"margin-top: 20px\">\n<b style=\"font-size: 32px; font-weight: bold;\"> Question #4: </b>\n\n<b>Separate the column \"Store Area\" into 3 bins of '1-999', '1000-1499', '1500-inf'. Call the new column 'Store-Area-binned'</b><br>\n<p>Hint! This problem can be divided into three tasks:</p>\n<ol>\n    <li>Generating a bin array;</li>\n    <li>Creating an array to store labels (the same as bins);</li>\n    <li>Dividing the data into bins using the <code>.cut()</code> function;</li>\n</ol>\n\n\n</div>\n"
      ]
    },
    {
      "cell_type": "code",
      "id": "43488e9f-dfa4-49f5-a642-7955472b3b65",
      "metadata": {},
      "outputs": [],
      "source": [
        "# Write your code below and press Shift+Enter to execute \n\n"
      ]
    },
    {
      "cell_type": "markdown",
      "id": "4716bf53-8d48-46fb-aef9-540ecd75842c",
      "metadata": {},
      "outputs": [],
      "source": [
        "<details><summary>Click here for the solution</summary>\n\n```python\n\nstore_area_bins = [1, 999, 1499, max(df[\"Store Area\"])]\nstore_area_names = ['1-999', '1000-1499', '1500-inf']\ndf['Store-Area-binned'] = pd.cut(df['Store Area'], bins=store_area_bins, labels=store_area_names)\n\n```\n\n</details>\n"
      ]
    },
    {
      "cell_type": "markdown",
      "id": "c2543beb-8b96-408f-beb9-c8450c10cae2",
      "metadata": {},
      "outputs": [],
      "source": [
        "It's important to complete this task, as the result will be needed for creating a crosstable later on."
      ]
    },
    {
      "cell_type": "markdown",
      "id": "0299cd88-0291-4a84-af15-fee60def0f68",
      "metadata": {},
      "outputs": [],
      "source": [
        "\n<b style=\"font-size: 32px; font-weight: 500; text-decoration: none; padding-top: 20px;\">\n    <a name=\"groping_data\" style=\"text-decoration: none;\">\n        <font color=\"black\">Groung Data</font>\n    </a>\n</b><br>\n<b>What is data grouping?</b>\n<p>\nGrouping refers to the process of splitting the data into groups based on some criteria and applying a function to each group.    \n</p>\n<b>Why we use grouping?</b>\n<p>\nGrouping allows us to perform aggregate functions, such as counting, summing, or averaging, on subsets of data based on a particular attribute or combination of attributes.\n</p>\n<b>Example:</b>\n<p>\n In our dataset, we want to find out, for example, how many stores have an area between 1000 and 1499 square meters and count of daily customers ranging from 500 to 999.</p>\n"
      ]
    },
    {
      "cell_type": "markdown",
      "id": "9f3dd408-b5fd-41e2-a35c-960622b8ea00",
      "metadata": {},
      "outputs": [],
      "source": [
        "Before moving on to grouping the data, we need to create another column that will categorize the number of visitors to the stores into 3 groups: 1-499, 500-999, 1000-inf. We have performed similar actions a little earlier."
      ]
    },
    {
      "cell_type": "code",
      "id": "ea9fec24-c75b-4d44-b240-8834ca8520b6",
      "metadata": {},
      "outputs": [],
      "source": [
        "customers_count_bins = [1, 499, 999, max(df[\"Daily Customer Count\"])]\ncustomers_count_names = ['1-499', '500-999', '1000-inf']\ndf['Customers-Count-binned'] = pd.cut(df['Daily Customer Count'], bins=customers_count_bins, labels=customers_count_names)"
      ]
    },
    {
      "cell_type": "markdown",
      "id": "c421c802-223f-4032-b2df-49d36e50c2bc",
      "metadata": {},
      "outputs": [],
      "source": [
        "To group data, we use the <code>groupby()</code> method. This method can be called on a dataframe object and passed one or several columns by which the data should be grouped."
      ]
    },
    {
      "cell_type": "code",
      "id": "dbd9b715-7bf5-490f-a5f8-0d6846501ee4",
      "metadata": {},
      "outputs": [],
      "source": [
        "result = df.groupby(['Store-Area-binned', 'Customers-Count-binned']).size().reset_index(name='Count')\nprint(result)"
      ]
    },
    {
      "cell_type": "markdown",
      "id": "bd8e0806-3342-4b9e-81f7-93ed8f9df9b9",
      "metadata": {},
      "outputs": [],
      "source": [
        "The above code groups by two columns: 'Store-Area-binned' and 'Customers Count-binned'. Then calculates the number of rows in each group using the <code>size()</code> method. The <code>reset_index()</code> method is used to reset the index of the resulting dataframe and name the new column with the count values as 'Count'"
      ]
    },
    {
      "cell_type": "markdown",
      "id": "af23f6af-fedd-409a-a16f-89749813447a",
      "metadata": {},
      "outputs": [],
      "source": [
        "After grouping, we can use <code>crosstab()</code> to obtain a summary table showing the count of observations for each combination of values within the groups."
      ]
    },
    {
      "cell_type": "code",
      "id": "67dc9b1f-5bb3-4b96-8fe8-a2c7e30f9ef0",
      "metadata": {},
      "outputs": [],
      "source": [
        "pd.crosstab(result['Store-Area-binned'], result['Customers-Count-binned'], \n                              values=result['Count'], aggfunc='sum', \n                              rownames=['Store Area'], colnames=['Daily Customer Count'])"
      ]
    },
    {
      "cell_type": "markdown",
      "id": "36a15d04-8f4d-4e07-a7fc-8626ac4eaaf9",
      "metadata": {},
      "outputs": [],
      "source": [
        "Here the first argument represents the row variable and the second is the column variable. <code>aggfunc='sum'</code> specifies the aggregation function to be used, which is sum in this case."
      ]
    },
    {
      "cell_type": "markdown",
      "id": "e8cd657a-c5c0-41da-8fa1-7c267756cfc7",
      "metadata": {},
      "outputs": [],
      "source": [
        "<div class=\"alert alert-danger alertdanger\" style=\"margin-top: 20px\">\n<b style=\"font-size: 32px; font-weight: bold;\"> Question #5: </b>\n\n<b>Create a cross-tabulation based on the columns 'Store-Area-binned' and \"Sales-per-Store-Area-binned\", which was calculated in the previous section.</b><br>\n    \n</div>\n"
      ]
    },
    {
      "cell_type": "code",
      "id": "9f3f7a2f-63e0-4131-b825-619ae4f152f0",
      "metadata": {},
      "outputs": [],
      "source": [
        "# Write your code below and press Shift+Enter to execute \n"
      ]
    },
    {
      "cell_type": "markdown",
      "id": "5e34c3f4-5a16-43a5-97e3-4bfbad603589",
      "metadata": {},
      "outputs": [],
      "source": [
        "<details><summary>Click here for the solution</summary>\n\n```python\nresult = df.groupby(['Store-Area-binned', \"Sales-per-Store-Area-binned\"]).size().reset_index(name='Count')\npd.crosstab(result['Store-Area-binned'], result[\"Sales-per-Store-Area-binned\"], \n                              values=result['Count'], aggfunc='sum', \n                              rownames=['Store Area'], colnames=['Sales per Store Area'])\n```\n\n</details>\n"
      ]
    },
    {
      "cell_type": "code",
      "id": "0b94149e-9c3a-4317-9b01-812dad431d62",
      "metadata": {},
      "outputs": [],
      "source": [
        "df.to_csv('Stores.csv')"
      ]
    },
    {
      "cell_type": "markdown",
      "id": "22f82048-8751-47a9-8914-ca7eddb689a5",
      "metadata": {},
      "outputs": [],
      "source": [
        "Save the new csv:\n\n> Note : The  csv file cannot be viewed in the jupyterlite based SN labs environment. However you can Click <a href=\"https://cf-courses-data.s3.us.cloud-object-storage.appdomain.cloud/IBMSkillsNetwork-GPXX0QTOEN/Lab-2-Data-Wrangling.jupyterlite.ipynb\">HERE</a> to download the lab notebook (.ipynb) to your local machine and view the csv file once the notebook is executed.\n"
      ]
    },
    {
      "cell_type": "markdown",
      "id": "1d6f4783-62d9-4f25-a1c3-87ee02ef2497",
      "metadata": {},
      "outputs": [],
      "source": [
        "### Thank you for completing this lab!\n\n\n## Author\n\n<a href=\"https://author.skills.network/instructors/ivan_dvylyuk\">Ivan Dvylyuk</a>\n\n### Other Contributors\n\n<a href=\"https://author.skills.network/instructors/yaroslav_vyklyuk_2\">Yaroslav Vyklyuk</a>\n\n<a href=\"https://author.skills.network/instructors/olga_kavun\">Olga Kavun</a>\n\n## Change Log\n\n| Date (YYYY-MM-DD) | Version | Changed By | Change Description                            |\n| ----------------- | ------- | ---------- | --------------------------------------------- |\n| 2023-04-03        | 2.2     | Ivan       | Created the lab                               |\n\n\n<hr>\n\n## <h3 align=\"center\"> © IBM Corporation 2023. All rights reserved. <h3/>"
      ]
    }
  ],
  "metadata": {
    "language_info": {
      "name": ""
    },
    "kernelspec": {
      "name": "",
      "display_name": ""
    }
  },
  "nbformat": 4,
  "nbformat_minor": 4
}