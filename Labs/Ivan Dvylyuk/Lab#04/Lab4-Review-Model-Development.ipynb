{
  "cells": [
    {
      "cell_type": "markdown",
      "id": "cdc6402d-ed6c-4ddd-84b2-1a29c64ccb49",
      "metadata": {},
      "outputs": [],
      "source": [
        "<center>\n <img src=\"https://cf-courses-data.s3.us.cloud-object-storage.appdomain.cloud/assets/logos/SN_web_lightmode.png\" width=\"300\" alt=\"cognitiveclass.ai logo\"  /></center>\n\n<h1 style=\"font-size: 36px; font-weight: bold; margin-top: 20px; text-decoration: none; margin-bottom: 25px;\">Forecasting the turnover of supermarkets</h1>\n<h2 style=\"font-size: 32px; font-weight: 500; margin-top: 0;\">Lab. 4. Model Development</h2>\n\nEstimated time needed: **30** minutes\n\n## Context\n<details><summary>Click here to learn more about the purpose of the labs</summary>\n\nIn the dataset, you'll get data of different stores of a supermarket company. Our goals of analysis are:\n<ol>\n    <li>Calculate:</li>\n    <ul>\n    <li>Average sales volume per customer;</li>\n    <li>Average sales volume per 1 square meter of store area;</li>\n    </ul>\n    <li>Investigate how indicators such as the number of customers, the number of products, and the size of store area affect the turnover volume;</li>\n    <li>Calculate the forecast value of turnover for the next period;</li>\n</ol>\n    \n</details>\n\n## Incoming data\n<details><summary>Click here to learn more about the incoming data</summary>\n\n<p>The dataset contains information on sample parameters from 896 supermarkets: store identifier, retail store area, number of product categories for sale, average monthly customer traffic, turnover volume.</p>\n<ul>\n    <li>Store ID: (Index) ID of the particular store;</li>\n    <li>Store Area: Physical Area of the store in yard square;</li>\n    <li>Items Available: Number of different items available in the corresponding store;</li>\n    <li>Daily Customer Count: Number of customers who visited to stores on an average over month;</li>\n    <h3>Target value</h3>\n    <li>Store Sales: Trade turnover;</li>\n</ul>\n    \n</details>\n\n## Objectives\nAfter completing this lab you will be able to:\n*   Develop prediction models\n"
      ]
    },
    {
      "cell_type": "markdown",
      "id": "5741c4c4-63ae-42c8-a9bd-bfe2e1671584",
      "metadata": {},
      "outputs": [],
      "source": [
        "<p>In this section, we will develop several models that will predict the sales of the stores using the variables or features. This is just an estimate but should give us an objective idea of how much the store should sale.</p>\n"
      ]
    },
    {
      "cell_type": "markdown",
      "id": "182949fe-c6b5-4904-bc18-49bc39d97c6a",
      "metadata": {},
      "outputs": [],
      "source": [
        "## Table of Contents\n\n<div class=\"alert alert-block alert-info\" style=\"margin-top: 20px; margin-bottom: 20px;\" >\n<ol>\n    <li><a href=\"#linear_multiple_regression\">Linear Regression and Multiple Linear Regression</a></li>\n    <li><a href=\"#evaluation_using_visualization\">Model Evaluation Using Visualization</a></li>\n    <li><a href=\"#polynomial_regression_pipelines\">Polynomial Regression and Pipelines</a></li>\n    <li><a href=\"#measures_for_in-sample_evaluation\">Measures for In-Sample Evaluation</a></li>\n    <li><a href=\"#prediction_and_decision_making\">Prediction and Decision Making</a></li>\n</ol>\n\n</div>\n\n<hr>\n"
      ]
    },
    {
      "cell_type": "markdown",
      "id": "d352fa28-b9f7-45df-85e9-386eee9fb19d",
      "metadata": {},
      "outputs": [],
      "source": [
        "#### Setup\n"
      ]
    },
    {
      "cell_type": "markdown",
      "id": "a55179b4-7ad4-4c80-aa06-80d2deff5097",
      "metadata": {},
      "outputs": [],
      "source": [
        "Import libraries:\n"
      ]
    },
    {
      "cell_type": "code",
      "id": "94950fe9-830b-47d5-bc33-db61427cbfdf",
      "metadata": {},
      "outputs": [],
      "source": [
        "#If you run the lab locally using Anaconda, you can load the correct library and versions by uncommenting the following:\n#install specific version of libraries used in lab\n#! mamba install pandas==1.3.3-y\n#! mamba install numpy=1.21.2-y\n#! mamba install sklearn=0.20.1-y\n!pip install --upgrade scikit-learn"
      ]
    },
    {
      "cell_type": "code",
      "id": "6a77f282-8bb3-4a62-9665-3b0faa9c383c",
      "metadata": {},
      "outputs": [],
      "source": [
        "import pandas as pd\nimport numpy as np\nimport matplotlib.pyplot as plt\nimport warnings\nwarnings.filterwarnings('ignore')"
      ]
    },
    {
      "cell_type": "markdown",
      "id": "797d6d47-72b0-495f-ae7b-c77048e51ca2",
      "metadata": {},
      "outputs": [],
      "source": [
        "This dataset was hosted on IBM Cloud object. Click <a href=\"https://cf-courses-data.s3.us.cloud-object-storage.appdomain.cloud/IBMSkillsNetwork-GPXX0H3HEN/Stores.csv\">HERE</a> for free storage.\n"
      ]
    },
    {
      "cell_type": "markdown",
      "id": "60bb325a-8627-46a4-b7e4-15d1d5949320",
      "metadata": {},
      "outputs": [],
      "source": [
        "Load the data and store it in dataframe `df`:\n"
      ]
    },
    {
      "cell_type": "code",
      "id": "84e60987-bfd4-4191-8d40-899b611ef811",
      "metadata": {},
      "outputs": [],
      "source": [
        "filename = \"https://cf-courses-data.s3.us.cloud-object-storage.appdomain.cloud/IBMSkillsNetwork-GPXX0H3HEN/Stores.csv\""
      ]
    },
    {
      "cell_type": "code",
      "id": "15fabd8b-8c52-4ecc-b91b-17eb2066133e",
      "metadata": {},
      "outputs": [],
      "source": [
        "df = pd.read_csv(filename, index_col=0)"
      ]
    },
    {
      "cell_type": "markdown",
      "id": "28a831e2-f2b6-46b3-9cbf-a6ecd54c0d48",
      "metadata": {},
      "outputs": [],
      "source": [
        "When working with machine learning models, it can be challenging to understand how the model is functioning and making predictions. One useful tool for gaining insight into a model's behavior is to visualize it as a diagram. "
      ]
    },
    {
      "cell_type": "code",
      "id": "c439a129-871a-47cf-abfa-f84f17c35f61",
      "metadata": {},
      "outputs": [],
      "source": [
        "from sklearn import set_config\nset_config(display=\"diagram\")"
      ]
    },
    {
      "cell_type": "markdown",
      "id": "7f31413c-ba8c-4227-9750-beac4a900746",
      "metadata": {},
      "outputs": [],
      "source": [
        "When we call methods on a model, it will be automatically displayed in the form of a graph, which can be easily understood. "
      ]
    },
    {
      "cell_type": "markdown",
      "id": "b03552fc-2983-4a87-96e3-f5f1d3429d2b",
      "metadata": {},
      "outputs": [],
      "source": [
        "<b style=\"font-size: 32px; font-weight: 500; text-decoration: none; padding-top: 20px;\">\n    <a name=\"linear_multiple_regression\" style=\"text-decoration: none;\">\n        <font color=\"black\">1. Linear Regression and Multiple Linear Regression</font>\n    </a>\n</b><br>"
      ]
    },
    {
      "cell_type": "markdown",
      "id": "4e29699b-7187-44c5-8293-6fb207cbfe55",
      "metadata": {},
      "outputs": [],
      "source": [
        "#### Linear Regression\n"
      ]
    },
    {
      "cell_type": "markdown",
      "id": "83637183-1137-4b8f-abc0-88dd5b5436fe",
      "metadata": {},
      "outputs": [],
      "source": [
        "<p>One example of a Data  Model that we will be using is:</p>\n<b style=\"font-weight: bold\">Simple Linear Regression</b>\n\n<br>\n<p>Simple Linear Regression is a method to help us understand the relationship between two variables:</p>\n<ul>\n    <li>The predictor/independent variable (X)</li>\n    <li>The response/dependent variable (that we want to predict)(Y)</li>\n</ul>\n\n<p>The result of Linear Regression is a <b>linear function</b> that predicts the response (dependent) variable as a function of the predictor (independent) variable.</p>\n"
      ]
    },
    {
      "cell_type": "markdown",
      "id": "f510fa64-d0b9-4c96-b79c-ec8dca737c11",
      "metadata": {},
      "outputs": [],
      "source": [
        "$$\nY: Response \\ Variable\\\\\\\\\\\\\\\\\\\\\nX: Predictor \\ Variables\n$$\n"
      ]
    },
    {
      "cell_type": "markdown",
      "id": "09a3e703-db2d-49a9-8cd7-043dfcb4d5ac",
      "metadata": {},
      "outputs": [],
      "source": [
        "<b>Linear Function</b>\n$$\nYhat = a + b  X\n$$\n"
      ]
    },
    {
      "cell_type": "markdown",
      "id": "c4be8650-d840-41c7-8b17-100a3b8a7d76",
      "metadata": {},
      "outputs": [],
      "source": [
        "<ul>\n    <li>a refers to the <b>intercept</b> of the regression line, in other words: the value of Y when X is 0</li>\n    <li>b refers to the <b>slope</b> of the regression line, in other words: the value with which Y changes when X increases by 1 unit</li>\n</ul>\n"
      ]
    },
    {
      "cell_type": "markdown",
      "id": "0a7915fc-0308-4bc2-a508-93442a495445",
      "metadata": {},
      "outputs": [],
      "source": [
        "#### Let's load the modules for linear regression:\n"
      ]
    },
    {
      "cell_type": "code",
      "id": "b4e7778d-fb27-44c3-9b9a-e8f257668b4f",
      "metadata": {},
      "outputs": [],
      "source": [
        "from sklearn.linear_model import LinearRegression"
      ]
    },
    {
      "cell_type": "markdown",
      "id": "8aff92aa-9817-42ff-8eeb-e2d21f7c6d7e",
      "metadata": {},
      "outputs": [],
      "source": [
        "#### Create the linear regression object:\n"
      ]
    },
    {
      "cell_type": "code",
      "id": "2497a24f-6351-401b-92d5-e8efa13a91f8",
      "metadata": {},
      "outputs": [],
      "source": [
        "lm1 = LinearRegression()\nlm1"
      ]
    },
    {
      "cell_type": "markdown",
      "id": "dd7c7eaf-6e48-49fe-bf8e-c736503075bd",
      "metadata": {},
      "outputs": [],
      "source": [
        "#### How could \"Sales per Store Area\" help us predict store sales?\n"
      ]
    },
    {
      "cell_type": "markdown",
      "id": "77a90633-b685-42bd-96d8-a14ee7ac4c7a",
      "metadata": {},
      "outputs": [],
      "source": [
        "For this example, we want to look at how Store Area can help us predict store sales.\nUsing simple linear regression, we will create a linear function with \"Store Area\" as the predictor variable and the \"Sales per Store Area\" as the response variable.\n"
      ]
    },
    {
      "cell_type": "code",
      "id": "50ce2edf-8eea-4c01-b01c-db4494e07498",
      "metadata": {},
      "outputs": [],
      "source": [
        "X = df[['Sales per Store Area']]\nY = df['Store Sales']"
      ]
    },
    {
      "cell_type": "markdown",
      "id": "0140da57-d65d-4669-b204-2f8c93f615cf",
      "metadata": {},
      "outputs": [],
      "source": [
        "Fit the linear model using Sales per Store Area:\n"
      ]
    },
    {
      "cell_type": "code",
      "id": "0bb8f8c2-a9a5-457c-aa9e-bf86bf8d2f07",
      "metadata": {},
      "outputs": [],
      "source": [
        "lm1.fit(X,Y)"
      ]
    },
    {
      "cell_type": "markdown",
      "id": "721cf700-622a-4631-923f-52272fab60f8",
      "metadata": {},
      "outputs": [],
      "source": [
        "We can output a prediction:\n"
      ]
    },
    {
      "cell_type": "code",
      "id": "1ce9e1fc-1698-489e-a0f5-f8bae28d14ab",
      "metadata": {},
      "outputs": [],
      "source": [
        "Yhat=lm1.predict(X)\nYhat[0:5]   "
      ]
    },
    {
      "cell_type": "markdown",
      "id": "3967399b-fab6-4701-a900-29053c34befe",
      "metadata": {},
      "outputs": [],
      "source": [
        "Let's figure and add two plots - one plot showing the raw data in Y, and another plot showing a line plot of the predicted values of Y based on a linear regression model."
      ]
    },
    {
      "cell_type": "code",
      "id": "1ec69174-8abf-47a4-aa9b-52eb256b9843",
      "metadata": {},
      "outputs": [],
      "source": [
        "plt.figure()\nY.plot()\nplt.plot(Y.index, lm1.predict(X))"
      ]
    },
    {
      "cell_type": "markdown",
      "id": "c45e7a92-11ea-4192-b31a-c8a93b1155a0",
      "metadata": {},
      "outputs": [],
      "source": [
        "#### What is the value of the intercept (a)?\n"
      ]
    },
    {
      "cell_type": "code",
      "id": "69006be8-c438-4cd2-92f2-1815375fc443",
      "metadata": {},
      "outputs": [],
      "source": [
        "lm1.intercept_"
      ]
    },
    {
      "cell_type": "markdown",
      "id": "369c806a-3f2b-4310-b7dc-9cea1cb06649",
      "metadata": {},
      "outputs": [],
      "source": [
        "#### What is the value of the slope (b)?</h4>\n"
      ]
    },
    {
      "cell_type": "code",
      "id": "7b78b5d8-b59f-4927-a492-b9a6a17157b0",
      "metadata": {},
      "outputs": [],
      "source": [
        "lm1.coef_"
      ]
    },
    {
      "cell_type": "markdown",
      "id": "8279778e-b686-4944-8cfd-1a42ba1a1c23",
      "metadata": {},
      "outputs": [],
      "source": [
        "<h3>What is the final estimated linear model we get?</h3>\n"
      ]
    },
    {
      "cell_type": "markdown",
      "id": "20059318-2a04-4750-9703-4a9f76866452",
      "metadata": {},
      "outputs": [],
      "source": [
        "As we saw above, we should get a final linear model with the structure:\n"
      ]
    },
    {
      "cell_type": "markdown",
      "id": "f58ba310-3591-4bdd-bcd3-84cc2141596b",
      "metadata": {},
      "outputs": [],
      "source": [
        "$$\nYhat = a + b  X\n$$\n"
      ]
    },
    {
      "cell_type": "markdown",
      "id": "0d673062-8801-4e8c-8c0c-ceb83f94f515",
      "metadata": {},
      "outputs": [],
      "source": [
        "Plugging in the actual values we get:\n"
      ]
    },
    {
      "cell_type": "markdown",
      "id": "ec875be1-6ed9-4591-a4bb-5394bf1ae182",
      "metadata": {},
      "outputs": [],
      "source": [
        "<b>sales</b> = 16824.045380205767 +1037.61183379 x <b>Store Area</b>\n"
      ]
    },
    {
      "cell_type": "markdown",
      "id": "9818f0a1-9d0d-4481-b659-ace1c3da1fbf",
      "metadata": {},
      "outputs": [],
      "source": [
        "<div class=\"alert alert-danger alertdanger\" style=\"margin-top: 20px\">\n<b style=\"font-size: 32px; font-weight: bold;\">Question #1 a):</b>\n\n<b>Create a linear regression object called \"lm\".</b>\n\n</div>\n"
      ]
    },
    {
      "cell_type": "code",
      "id": "d1efbb6d-4e14-4ea1-9468-49826befdd4e",
      "metadata": {},
      "outputs": [],
      "source": [
        "# Write your code below and press Shift+Enter to execute \n"
      ]
    },
    {
      "cell_type": "markdown",
      "id": "9b0ae721-90c1-4352-a59e-fc42868f3c84",
      "metadata": {},
      "outputs": [],
      "source": [
        "<details><summary>Click here for the solution</summary>\n\n```python\nlm = LinearRegression()\nlm\n```\n\n</details>\n"
      ]
    },
    {
      "cell_type": "markdown",
      "id": "30404219-fec6-4687-8b3d-4d13e15de391",
      "metadata": {},
      "outputs": [],
      "source": [
        "<div class=\"alert alert-danger alertdanger\" style=\"margin-top: 20px\">\n<b style=\"font-size: 32px; font-weight: bold;\">Question #1 b):</b>\n\n<b>Train the model using \"Revenue per Customer\" as the independent variable and \"Store Sales\" as the dependent variable?</b>\n\n</div>\n"
      ]
    },
    {
      "cell_type": "code",
      "id": "6baefdd1-662f-4f1d-84bf-219ff50654a8",
      "metadata": {},
      "outputs": [],
      "source": [
        "# Write your code below and press Shift+Enter to execute \n"
      ]
    },
    {
      "cell_type": "markdown",
      "id": "fec6c0cf-3c41-4761-86f3-38e17bf3add0",
      "metadata": {},
      "outputs": [],
      "source": [
        "<details><summary>Click here for the solution</summary>\n\n```python\nlm.fit(df[['Revenue per Customer']], df[['Store Sales']])\nlm\n```\n\n</details>\n"
      ]
    },
    {
      "cell_type": "markdown",
      "id": "ff95269e-260a-4307-8c06-e09337f26837",
      "metadata": {},
      "outputs": [],
      "source": [
        "<div class=\"alert alert-danger alertdanger\" style=\"margin-top: 20px\">\n<b style=\"font-size: 32px; font-weight: bold;\">Question #1 c):</b>\n\n<b>Find the slope and intercept of the model.</b>\n\n</div>\n"
      ]
    },
    {
      "cell_type": "markdown",
      "id": "3ad6b10b-6ba8-41ff-aa0c-1f79824175cb",
      "metadata": {},
      "outputs": [],
      "source": [
        "#### Slope\n"
      ]
    },
    {
      "cell_type": "code",
      "id": "f0078738-ad8c-48c9-83bb-a05e60bf653d",
      "metadata": {},
      "outputs": [],
      "source": [
        "# Write your code below and press Shift+Enter to execute \n"
      ]
    },
    {
      "cell_type": "markdown",
      "id": "6c6c7385-0fb2-49a3-b5db-b6fa90fab6a5",
      "metadata": {},
      "outputs": [],
      "source": [
        "<details><summary>Click here for the solution</summary>\n    \n```python\n# Slope \nlm.coef_\n```\n</details>\n"
      ]
    },
    {
      "cell_type": "markdown",
      "id": "388071fd-8616-4d9d-9372-4ff450101f3f",
      "metadata": {},
      "outputs": [],
      "source": [
        "#### Intercept\n\n"
      ]
    },
    {
      "cell_type": "code",
      "id": "a2315f38-b320-4d52-8be7-2e2302680d60",
      "metadata": {},
      "outputs": [],
      "source": [
        "# Write your code below and press Shift+Enter to execute \n"
      ]
    },
    {
      "cell_type": "markdown",
      "id": "76ab996c-d52a-4568-a91b-1b5c0f3fbd61",
      "metadata": {},
      "outputs": [],
      "source": [
        "\n<details><summary>Click here for the solution</summary>\n\n```python\n# Intercept\nlm.intercept_\n```\n\n</details>\n"
      ]
    },
    {
      "cell_type": "markdown",
      "id": "fa046bf2-418e-43db-b772-c03cfea0d49e",
      "metadata": {},
      "outputs": [],
      "source": [
        "<div class=\"alert alert-danger alertdanger\" style=\"margin-top: 20px\">\n<b style=\"font-size: 32px; font-weight: bold;\">Question #1 d):</b>\n\n<b>What is the equation of the predicted line? You can use x and yhat or \"Revenue per Customer\" or \"Store Sales\".</b>\n\n</div>\n"
      ]
    },
    {
      "cell_type": "code",
      "id": "8e3b5826-ae49-418b-88be-d7b2a6eb6b65",
      "metadata": {},
      "outputs": [],
      "source": [
        "# Write your code below and press Shift+Enter to execute \n# using X and Y  \n"
      ]
    },
    {
      "cell_type": "markdown",
      "id": "a88cf868-1d83-4af0-abac-bdfbe3b99dbc",
      "metadata": {},
      "outputs": [],
      "source": [
        "<details><summary>Click here for the solution</summary>\n\n```python\n# using X and Y  \nYhat=57965.71 + 14.73*X\n\nSales=[57965.71 + 14.73*df['Revenue per Customer']\n\n```\n\n</details>\n"
      ]
    },
    {
      "cell_type": "markdown",
      "id": "4f750850-ddf7-4a5b-a60c-b3f9cd93ed35",
      "metadata": {},
      "outputs": [],
      "source": [
        "#### Multiple Linear Regression\n"
      ]
    },
    {
      "cell_type": "markdown",
      "id": "9b7eafc3-1624-466e-9048-7284f28b9fca",
      "metadata": {},
      "outputs": [],
      "source": [
        "<p>What if we want to predict Store Sales using more than one variable?</p>\n\n<p>If we want to use more variables in our model to predict store sales, we can use <b>Multiple Linear Regression</b>.\nMultiple Linear Regression is very similar to Simple Linear Regression, but this method is used to explain the relationship between one continuous response (dependent) variable and <b>two or more</b> predictor (independent) variables.\nMost of the real-world regression models involve multiple predictors. We will illustrate the structure by using four predictor variables, but these results can generalize to any integer:</p>\n"
      ]
    },
    {
      "cell_type": "markdown",
      "id": "fe1273e8-cf2c-4556-afcb-ecbe24ba80ff",
      "metadata": {},
      "outputs": [],
      "source": [
        "$$\nY: Response \\ Variable\\\\\\\\\\\\\\\\\\\\\nX\\_1 :Predictor\\ Variable \\ 1\\\\\\\\\nX\\_2: Predictor\\ Variable \\ 2\\\\\\\\\nX\\_3: Predictor\\ Variable \\ 3\\\\\\\\\nX\\_4: Predictor\\ Variable \\ 4\\\\\\\\\n$$\n"
      ]
    },
    {
      "cell_type": "markdown",
      "id": "b5f174fe-a8ab-411f-af88-bd4e5b691cc1",
      "metadata": {},
      "outputs": [],
      "source": [
        "$$\na: intercept\\\\\\\\\\\\\\\\\\\\\nb\\_1 :coefficients \\ of\\ Variable \\ 1\\\\\\\\\nb\\_2: coefficients \\ of\\ Variable \\ 2\\\\\\\\\nb\\_3: coefficients \\ of\\ Variable \\ 3\\\\\\\\\nb\\_4: coefficients \\ of\\ Variable \\ 4\\\\\\\\\n$$\n"
      ]
    },
    {
      "cell_type": "markdown",
      "id": "48209019-cfd0-46e6-b596-62bb187f075f",
      "metadata": {},
      "outputs": [],
      "source": [
        "The equation is given by:\n"
      ]
    },
    {
      "cell_type": "markdown",
      "id": "6cb6c0da-495e-4de0-a5ca-70f374342011",
      "metadata": {},
      "outputs": [],
      "source": [
        "$$\nYhat = a + b_1 X_1 + b_2 X_2 + b_3 X_3 + b_4 X_4\n$$\n"
      ]
    },
    {
      "cell_type": "markdown",
      "id": "a68a395b-e9bd-41b8-b1f4-312951fdc41b",
      "metadata": {},
      "outputs": [],
      "source": [
        "<p>From the previous section we know that other good predictors of sale could be:</p>\n<ul>\n    <li>Store Area</li>\n    <li>Daily Customer Count</li>\n    <li>Revenue per Customer</li>\n    <li>Sales per Store Area</li>\n</ul>\nLet's develop a model using these variables as the predictor variables.\n"
      ]
    },
    {
      "cell_type": "code",
      "id": "53e0dde9-1c9e-4106-b6ad-4869e922b4ef",
      "metadata": {},
      "outputs": [],
      "source": [
        "lm2 = LinearRegression()\nZ = df[['Store Area', 'Daily Customer Count', 'Revenue per Customer', 'Sales per Store Area']]"
      ]
    },
    {
      "cell_type": "markdown",
      "id": "035a65a4-ad5f-422d-9dc2-a11731f2d7e5",
      "metadata": {},
      "outputs": [],
      "source": [
        "Fit the linear model using the four above-mentioned variables.\n"
      ]
    },
    {
      "cell_type": "code",
      "id": "bbf27356-0399-42be-8666-db0bc23717d1",
      "metadata": {},
      "outputs": [],
      "source": [
        "lm2.fit(Z, df['Store Sales'])"
      ]
    },
    {
      "cell_type": "markdown",
      "id": "337eb1d0-12ad-4f7d-94f0-885a151b7a5b",
      "metadata": {},
      "outputs": [],
      "source": [
        "Predicting values:"
      ]
    },
    {
      "cell_type": "code",
      "id": "69bb2a16-69a6-4419-95c7-84c0b8f08ca9",
      "metadata": {},
      "outputs": [],
      "source": [
        "Yhat2 = lm2.predict(Z)\nYhat2[0:5]"
      ]
    },
    {
      "cell_type": "markdown",
      "id": "b258872d-97a9-4a4b-9808-e2410af272b0",
      "metadata": {},
      "outputs": [],
      "source": [
        "Let's compare the actual data Y with the predicted values of Y based on a multiple regression model, and visualize this comparison on a graph."
      ]
    },
    {
      "cell_type": "code",
      "id": "b777482a-f9ff-45d2-b84c-c3e6e1417551",
      "metadata": {},
      "outputs": [],
      "source": [
        "plt.figure()\nY.plot()\nplt.plot(Y.index, Yhat2)"
      ]
    },
    {
      "cell_type": "markdown",
      "id": "407a2599-8d7c-431f-a8a0-690f08936bfb",
      "metadata": {},
      "outputs": [],
      "source": [
        "What is the value of the intercept(a)?\n"
      ]
    },
    {
      "cell_type": "code",
      "id": "c11b31ce-dd3d-4397-b21e-cc729ff1e389",
      "metadata": {},
      "outputs": [],
      "source": [
        "lm2.intercept_"
      ]
    },
    {
      "cell_type": "markdown",
      "id": "462e4f40-26ca-431c-a6a6-91d8bdc0d435",
      "metadata": {},
      "outputs": [],
      "source": [
        "What are the values of the coefficients (b1, b2, b3, b4)?\n"
      ]
    },
    {
      "cell_type": "code",
      "id": "4931b81c-e912-4444-a87d-2c1f26ff01d1",
      "metadata": {},
      "outputs": [],
      "source": [
        "lm2.coef_"
      ]
    },
    {
      "cell_type": "markdown",
      "id": "15301714-3bb3-4693-a89b-688c1de1040c",
      "metadata": {},
      "outputs": [],
      "source": [
        "What is the final estimated linear model that we get?\n"
      ]
    },
    {
      "cell_type": "markdown",
      "id": "e9f3fb26-6dd9-43c3-85fb-84323e1190f2",
      "metadata": {},
      "outputs": [],
      "source": [
        "As we saw above, we should get a final linear function with the structure:\n\n$$\nYhat = a + b_1 X_1 + b_2 X_2 + b_3 X_3 + b_4 X_4\n$$\n\nWhat is the linear function we get in this example?\n"
      ]
    },
    {
      "cell_type": "markdown",
      "id": "60790f25-a44c-49b3-a5d0-a66a6b59188f",
      "metadata": {},
      "outputs": [],
      "source": [
        "<b>sales</b> = -55878.21215439273 + 4.00054556e+01 x <b>Store Area</b> + -1.72522693e-01 x <b>Daily Customer Count</b> + 9.86925160e-01 x <b>Revenue per Customer</b> + 1.36261825e+03 x <b>Sales per Store Area</b>\n"
      ]
    },
    {
      "cell_type": "markdown",
      "id": "079958be-b846-4a1a-b292-20b4c69a42c1",
      "metadata": {},
      "outputs": [],
      "source": [
        "<div class=\"alert alert-danger alertdanger\" style=\"margin-top: 20px\">\n<b style=\"font-size: 32px; font-weight: bold;\">Question #2 a):</b>\n<p>Create and train a Multiple Linear Regression model \"lm\" where the response variable is \"Store Sales\", and the predictor variable is \"Store Area\" and  \"Sales per Store Area\".</p>\n</div>\n"
      ]
    },
    {
      "cell_type": "code",
      "id": "19b96924-5ef0-4120-9341-2944c813e855",
      "metadata": {},
      "outputs": [],
      "source": [
        "# Write your code below and press Shift+Enter to execute \n"
      ]
    },
    {
      "cell_type": "markdown",
      "id": "0ea1fd68-6b5c-4123-975d-4b10a8b6c5b0",
      "metadata": {},
      "outputs": [],
      "source": [
        "<details><summary>Click here for the solution</summary>\n\n```python\nlm = LinearRegression()\nlm.fit(df[['Store Area','Sales per Store Area']],df['Store Sales'])\n\n\n```\n\n</details>\n"
      ]
    },
    {
      "cell_type": "markdown",
      "id": "472a0cae-0d7a-4e54-8e73-884556bcb4b7",
      "metadata": {},
      "outputs": [],
      "source": [
        "<div class=\"alert alert-danger alertdanger\" style=\"margin-top: 20px\">\n<b style=\"font-size: 32px; font-weight: bold;\">Question #2 b):</b>\n<p>Find the coefficient of the model.</p>\n</div>\n"
      ]
    },
    {
      "cell_type": "code",
      "id": "0ddd3543-d931-494b-bf43-82d13218c87c",
      "metadata": {},
      "outputs": [],
      "source": [
        "# Write your code below and press Shift+Enter to execute \nlm.coef_"
      ]
    },
    {
      "cell_type": "markdown",
      "id": "2139b3cf-22fd-44d9-9442-3a48c786d5de",
      "metadata": {},
      "outputs": [],
      "source": [
        "<details><summary>Click here for the solution</summary>\n\n```python\nlm2.coef_\n\n```\n\n</details>\n"
      ]
    },
    {
      "cell_type": "markdown",
      "id": "b863129e-aa09-484f-b85c-d593549d762e",
      "metadata": {},
      "outputs": [],
      "source": [
        "\n<b style=\"font-size: 32px; font-weight: 500; text-decoration: none; padding-top: 20px;\">\n    <a name=\"evaluation_using_visualization\" style=\"text-decoration: none;\">\n        <font color=\"black\">2. Model Evaluation Using Visualization</font>\n    </a>\n</b><br>"
      ]
    },
    {
      "cell_type": "markdown",
      "id": "e577525b-cf02-4117-be09-f77ed137eb81",
      "metadata": {},
      "outputs": [],
      "source": [
        "Now that we've developed some models, how do we evaluate our models and choose the best one? One way to do this is by using a visualization.\n"
      ]
    },
    {
      "cell_type": "markdown",
      "id": "aaf91428-71e7-4f22-beab-a76211458dae",
      "metadata": {},
      "outputs": [],
      "source": [
        "Import the visualization package, seaborn:\n"
      ]
    },
    {
      "cell_type": "code",
      "id": "979f73c6-2080-49ca-b397-fd81b34f1908",
      "metadata": {},
      "outputs": [],
      "source": [
        "# import the visualization package: seaborn\nimport seaborn as sns "
      ]
    },
    {
      "cell_type": "markdown",
      "id": "2402f5f7-534c-4057-b799-5ded3d2f823a",
      "metadata": {},
      "outputs": [],
      "source": [
        "<h3>Regression Plot</h3>\n"
      ]
    },
    {
      "cell_type": "markdown",
      "id": "829aac40-d4bb-47f0-a2bf-e276937f3d7d",
      "metadata": {},
      "outputs": [],
      "source": [
        "<p>When it comes to simple linear regression, an excellent way to visualize the fit of our model is by using <b>regression plots</b>.</p>\n\n<p>This plot will show a combination of a scattered data points (a <b>scatterplot</b>), as well as the fitted <b>linear regression</b> line going through the data. This will give us a reasonable estimate of the relationship between the two variables, the strength of the correlation, as well as the direction (positive or negative correlation).</p>\n"
      ]
    },
    {
      "cell_type": "markdown",
      "id": "8346d3fc-aadb-4b5e-ad7a-0ada4308eff2",
      "metadata": {},
      "outputs": [],
      "source": [
        "Let's visualize **Sales per Store Area** as potential predictor variable of sales:\n"
      ]
    },
    {
      "cell_type": "code",
      "id": "81ba3c9f-3cad-4ce9-9f78-159b1202b421",
      "metadata": {},
      "outputs": [],
      "source": [
        "width = 12\nheight = 10\nplt.figure(figsize=(width, height))\nsns.regplot(x=\"Sales per Store Area\", y=\"Store Sales\", data=df)\nplt.ylim(0,)"
      ]
    },
    {
      "cell_type": "markdown",
      "id": "b30f3f0c-95a4-4394-ac86-04d205337c28",
      "metadata": {},
      "outputs": [],
      "source": [
        "<p>We can see from this plot that Store Sales is poritive correlated to Sales per Store Area since the regression slope is positive.\n\nOne thing to keep in mind when looking at a regression plot is to pay attention to how scattered the data points are around the regression line. This will give you a good indication of the variance of the data and whether a linear model would be the best fit or not. If the data is too far off from the line, this linear model might not be the best model for this data.\n\nLet's compare this plot to the regression plot of \"Daily Customer Count\".</p>\n"
      ]
    },
    {
      "cell_type": "code",
      "id": "7453f61c-ac3e-4421-8886-8d13544371ed",
      "metadata": {},
      "outputs": [],
      "source": [
        "plt.figure(figsize=(width, height))\nsns.regplot(x=\"Daily Customer Count\", y=\"Store Sales\", data=df)\nplt.ylim(0,)"
      ]
    },
    {
      "cell_type": "markdown",
      "id": "5e6bb46c-e5bb-4c69-9c10-0209034a6604",
      "metadata": {},
      "outputs": [],
      "source": [
        "<p>Comparing the regression plot of \"Daily Customer Count\" and \"Sales per Store Area\", we see that the points for \"Sales per Store Area\" are much closer to the generated line. The points for \"Daily Customer Count\" have more spread around the predicted line and it is much harder to determine if the points are decreasing or increasing as the \"Daily Customer Count\" increases.</p>\n"
      ]
    },
    {
      "cell_type": "markdown",
      "id": "dab03cad-7086-4648-8591-455989d2e02d",
      "metadata": {},
      "outputs": [],
      "source": [
        "<div class=\"alert alert-danger alertdanger\" style=\"margin-top: 20px\">\n<b style=\"font-size: 32px; font-weight: bold;\">Question #3:</b>\n<p>Given the regression plots above, is \"Daily Customer Count\" or \"Sales per Store Area\" more strongly correlated with \"Store Sales\"? Use the method  \".corr()\" to verify your answer.</p>\n</div>\n"
      ]
    },
    {
      "cell_type": "code",
      "id": "c505b7b0-6456-4c34-9841-6fd42f11d8ee",
      "metadata": {},
      "outputs": [],
      "source": [
        "# Write your code below and press Shift+Enter to execute \ndf[[\"Daily Customer Count\",\"Sales per Store Area\",\"Store Sales\"]].corr()"
      ]
    },
    {
      "cell_type": "markdown",
      "id": "98720af2-1b88-4af1-922e-5e56658d1ebf",
      "metadata": {},
      "outputs": [],
      "source": [
        "<details><summary>Click here for the solution</summary>\n\n```python\n\ndf[[\"Daily Customer Count\",\"Sales per Store Area\",\"Store Sales\"]].corr()\n\n```\n\n</details>\n"
      ]
    },
    {
      "cell_type": "markdown",
      "id": "c7ca04ea-6460-4a20-beb4-b73dfb09b078",
      "metadata": {},
      "outputs": [],
      "source": [
        "### Residual Plot\n\n<p>A good way to visualize the variance of the data is to use a residual plot.</p>\n\n<p>What is a <b>residual</b>?</p>\n\n<p>The difference between the observed value (y) and the predicted value (Yhat) is called the residual (e). When we look at a regression plot, the residual is the distance from the data point to the fitted regression line.</p>\n\n<p>So what is a <b>residual plot</b>?</p>\n\n<p>A residual plot is a graph that shows the residuals on the vertical y-axis and the independent variable on the horizontal x-axis.</p>\n\n<p>What do we pay attention to when looking at a residual plot?</p>\n\n<p>We look at the spread of the residuals:</p>\n\n<p>- If the points in a residual plot are <b>randomly spread out around the x-axis</b>, then a <b>linear model is appropriate</b> for the data.\n\nWhy is that? Randomly spread out residuals means that the variance is constant, and thus the linear model is a good fit for this data.</p>\n"
      ]
    },
    {
      "cell_type": "code",
      "id": "2ed89d63-3d8e-4d35-82b3-6cab9011630c",
      "metadata": {},
      "outputs": [],
      "source": [
        "width = 12\nheight = 10\nplt.figure(figsize=(width, height))\nsns.residplot(x=df['Sales per Store Area'],y=df['Store Sales'])\nplt.show()"
      ]
    },
    {
      "cell_type": "markdown",
      "id": "401f9575-c369-4cc8-ab99-0a83ff75fed0",
      "metadata": {},
      "outputs": [],
      "source": [
        "<i>What is this plot telling us?</i>\n\n<p>We can see from this residual plot that the residuals are randomly spread around the x-axis, leading us to believe that maybe a non-linear model is appropriate for this data.</p>\n"
      ]
    },
    {
      "cell_type": "markdown",
      "id": "7e2078ef-b61a-4970-b77b-e31758298da3",
      "metadata": {},
      "outputs": [],
      "source": [
        "#### Simple Linear Regression"
      ]
    },
    {
      "cell_type": "markdown",
      "id": "02803e68-5c5d-4396-999a-d400a483063b",
      "metadata": {},
      "outputs": [],
      "source": [
        "### Multiple Linear Regression\n"
      ]
    },
    {
      "cell_type": "markdown",
      "id": "27784bb7-6157-4f53-865f-fe141819b882",
      "metadata": {},
      "outputs": [],
      "source": [
        "<p>How do we visualize a model for Multiple Linear Regression? This gets a bit more complicated because you can't visualize it with regression or residual plot.</p>\n\n<p>One way to look at the fit of the model is by looking at the <b>distribution plot</b>. We can look at the distribution of the fitted values that result from the model and compare it to the distribution of the actual values.</p>\n"
      ]
    },
    {
      "cell_type": "markdown",
      "id": "72612700-eca9-4a1b-949f-8bd554fbcccf",
      "metadata": {},
      "outputs": [],
      "source": [
        "First, let's make a prediction:\n"
      ]
    },
    {
      "cell_type": "code",
      "id": "0ffc9ffe-4af9-45df-831e-5e0bf40ffff2",
      "metadata": {},
      "outputs": [],
      "source": [
        "Y_hat = lm2.predict(Z)"
      ]
    },
    {
      "cell_type": "code",
      "id": "f63d3f8a-757d-46a1-b33d-1ec9def55849",
      "metadata": {},
      "outputs": [],
      "source": [
        "plt.figure(figsize=(width, height))\n\n\nax1 = sns.distplot(df['Store Sales'], hist=False, color=\"r\", label=\"Actual Value\")\nsns.distplot(Y_hat, hist=False, color=\"b\", label=\"Fitted Values\" , ax=ax1)\n\n\nplt.title('Actual vs Fitted Values for Sales')\nplt.xlabel('Sales')\nplt.ylabel('Proportion of Stores')\n\nplt.show()\nplt.close()"
      ]
    },
    {
      "cell_type": "markdown",
      "id": "0bf3b58f-234c-4a90-8bc9-284546611be2",
      "metadata": {},
      "outputs": [],
      "source": [
        "<p>We can see that the fitted values are reasonably close to the actual values since the two distributions overlap a bit. However, there is definitely some room for improvement.</p>\n"
      ]
    },
    {
      "cell_type": "markdown",
      "id": "8a095fbd-758e-4959-ae3e-7c29373d5c78",
      "metadata": {},
      "outputs": [],
      "source": [
        "\n<b style=\"font-size: 32px; font-weight: 500; text-decoration: none; padding-top: 20px;\">\n    <a name=\"polynomial_regression_pipelines\" style=\"text-decoration: none;\">\n        <font color=\"black\">3. Polynomial Regression and Pipelines</font>\n    </a>\n</b><br>"
      ]
    },
    {
      "cell_type": "markdown",
      "id": "e19eaafd-40ca-47f2-b09f-b9b0e9535e25",
      "metadata": {},
      "outputs": [],
      "source": [
        "<p><b>Polynomial regression</b> is a particular case of the general linear regression model or multiple linear regression models.</p> \n<p>We get non-linear relationships by squaring or setting higher-order terms of the predictor variables.</p>\n\n<p>There are different orders of polynomial regression:</p>\n"
      ]
    },
    {
      "cell_type": "markdown",
      "id": "58002618-df30-49b8-9493-f6866be66de6",
      "metadata": {},
      "outputs": [],
      "source": [
        "<center><b>Quadratic - 2nd Order</b></center>\n$$\nYhat = a + b_1 X +b_2 X^2 \n$$\n\n<center><b>Cubic - 3rd Order</b></center>\n$$\nYhat = a + b_1 X +b_2 X^2 +b_3 X^3\\\\\\\\\\\\\\\\\\\\\n$$\n\n<center><b>Higher-Order</b>:</center>\n$$\nY = a + b_1 X +b_2 X^2 +b_3 X^3 ....\\\\\\\\\n$$\n"
      ]
    },
    {
      "cell_type": "markdown",
      "id": "8faa23be-94fe-4985-b228-d8c608cf48a7",
      "metadata": {},
      "outputs": [],
      "source": [
        "<p>We saw earlier that a linear model did not provide the best fit while using \"Sales per Store Area\" as the predictor variable. Let's see if we can try fitting a polynomial model to the data instead.</p>\n"
      ]
    },
    {
      "cell_type": "markdown",
      "id": "6752d9a2-0308-4705-9975-24a7ea878bb0",
      "metadata": {},
      "outputs": [],
      "source": [
        "<p>We will use the following function to plot the data:</p>\n"
      ]
    },
    {
      "cell_type": "code",
      "id": "9f7d5b33-9e48-423d-9039-eef6cbe813ed",
      "metadata": {},
      "outputs": [],
      "source": [
        "def PlotPolly(model, independent_variable, dependent_variabble, Name):\n    x_new = np.linspace(0, 100, 100)\n    y_new = model(x_new)\n\n    plt.plot(independent_variable, dependent_variabble, '.', x_new, y_new, '-')\n    plt.title('Polynomial Fit with Matplotlib for Sales')\n    ax = plt.gca()\n    ax.set_facecolor((0.898, 0.898, 0.898))\n    fig = plt.gcf()\n    plt.xlabel(Name)\n    plt.ylabel('Store Sales')\n\n    plt.show()\n    plt.close()"
      ]
    },
    {
      "cell_type": "markdown",
      "id": "7edf9cdc-bf0a-4509-8d88-0e329ab24c00",
      "metadata": {},
      "outputs": [],
      "source": [
        "Let's get the variables:\n"
      ]
    },
    {
      "cell_type": "code",
      "id": "655a4109-7e32-4db7-8224-6a42027afafb",
      "metadata": {},
      "outputs": [],
      "source": [
        "x = df['Sales per Store Area']\ny = df['Store Sales']"
      ]
    },
    {
      "cell_type": "markdown",
      "id": "5fc9bf29-acea-46fd-a332-fb51659c6558",
      "metadata": {},
      "outputs": [],
      "source": [
        "Let's fit the polynomial using the function <b>polyfit</b>, then use the function <b>poly1d</b> to display the polynomial function.\n"
      ]
    },
    {
      "cell_type": "code",
      "id": "521ade5c-626a-4959-9101-b8a785b638e3",
      "metadata": {},
      "outputs": [],
      "source": [
        "# Here we use a polynomial of the 3rd order (cubic) \nf = np.polyfit(x, y, 3)\np = np.poly1d(f)\nprint(p)"
      ]
    },
    {
      "cell_type": "markdown",
      "id": "a06226c1-b1da-420d-8e17-cae913583b95",
      "metadata": {},
      "outputs": [],
      "source": [
        "Let's plot the function:\n"
      ]
    },
    {
      "cell_type": "code",
      "id": "31daff79-9e91-4e40-8a76-2a62fa550cea",
      "metadata": {},
      "outputs": [],
      "source": [
        "PlotPolly(p, x, y, 'Sales per Store Area')"
      ]
    },
    {
      "cell_type": "code",
      "id": "aceefbe3-6035-4816-9a31-9cf926c1b2d8",
      "metadata": {},
      "outputs": [],
      "source": [
        "np.polyfit(x, y, 3)"
      ]
    },
    {
      "cell_type": "markdown",
      "id": "577a0daa-219e-4eac-8cb2-722284f5c6f9",
      "metadata": {},
      "outputs": [],
      "source": [
        "Let's compare the actual values with the results of polynomial regression."
      ]
    },
    {
      "cell_type": "code",
      "id": "c1fd93b5-96b9-4403-bad6-fc4322488a29",
      "metadata": {},
      "outputs": [],
      "source": [
        "plt.figure()\nY.plot()\nplt.plot(Y.index, p(x))"
      ]
    },
    {
      "cell_type": "markdown",
      "id": "9ac95f45-898c-471d-a3f2-4f9e2a36130b",
      "metadata": {},
      "outputs": [],
      "source": [
        "<div class=\"alert alert-danger alertdanger\" style=\"margin-top: 20px\">\n<b style=\"font-size: 32px; font-weight: bold;\">Question #4:</b>\n<p>Create 11 order polynomial model with the variables x and y from above.</p>\n</div>\n"
      ]
    },
    {
      "cell_type": "code",
      "id": "2a167a11-b60d-4b76-8047-1ca76a0409f3",
      "metadata": {},
      "outputs": [],
      "source": [
        "# Write your code below and press Shift+Enter to execute \n"
      ]
    },
    {
      "cell_type": "markdown",
      "id": "a19457d0-68da-4a9a-877f-d23f0d5c7505",
      "metadata": {},
      "outputs": [],
      "source": [
        "<details><summary>Click here for the solution</summary>\n\n```python\n# Here we use a polynomial of the 11rd order\nf1 = np.polyfit(x, y, 11)\np1 = np.poly1d(f1)\nprint(p1)\nPlotPolly(p1,x,y, 'Sales per Store Area')\n\n```\n\n</details>\n"
      ]
    },
    {
      "cell_type": "markdown",
      "id": "d73e18a1-c6fa-42a5-af9f-d4f661bebad4",
      "metadata": {},
      "outputs": [],
      "source": [
        "### Multivariate Polynomial Regression"
      ]
    },
    {
      "cell_type": "markdown",
      "id": "d74ce6d9-a43c-403d-aaf3-fc9e4ca30229",
      "metadata": {},
      "outputs": [],
      "source": [
        "<p>The analytical expression for Multivariate Polynomial function gets complicated. For example, the expression for a second-order (degree=2) polynomial with two variables is given by:</p>\n"
      ]
    },
    {
      "cell_type": "markdown",
      "id": "2b86a260-5311-4834-9db1-7eebb97dcb9e",
      "metadata": {},
      "outputs": [],
      "source": [
        "$$\nYhat = a + b_1 X_1 +b_2 X_2 +b_3 X_1 X_2+b_4 X_1^2+b_5 X_2^2\n$$\n"
      ]
    },
    {
      "cell_type": "markdown",
      "id": "5185d754-fdea-4ffa-9cbe-8c3f5289d2d5",
      "metadata": {},
      "outputs": [],
      "source": [
        "We can perform a polynomial transform on multiple features. First, we import the module:\n"
      ]
    },
    {
      "cell_type": "code",
      "id": "61a7f030-0a3e-4c9e-ba52-31cd9d0f27bb",
      "metadata": {},
      "outputs": [],
      "source": [
        "from sklearn.preprocessing import PolynomialFeatures"
      ]
    },
    {
      "cell_type": "markdown",
      "id": "a9b57d19-e26b-4209-89b8-3377ae3527c0",
      "metadata": {},
      "outputs": [],
      "source": [
        "We create a <b>PolynomialFeatures</b> object of degree 2:\n"
      ]
    },
    {
      "cell_type": "code",
      "id": "3a584efc-b2f5-4d3b-8efd-e685d60feedc",
      "metadata": {},
      "outputs": [],
      "source": [
        "pr=PolynomialFeatures(degree=2)\npr"
      ]
    },
    {
      "cell_type": "code",
      "id": "61e034c7-c4ba-4d7c-932f-ab19127548fc",
      "metadata": {},
      "outputs": [],
      "source": [
        "Z_pr=pr.fit_transform(Z)"
      ]
    },
    {
      "cell_type": "markdown",
      "id": "78cc8f8d-425f-43ed-b331-3fa031b013cf",
      "metadata": {},
      "outputs": [],
      "source": [
        "In the original data, there are 896 samples and 4 features.\n"
      ]
    },
    {
      "cell_type": "code",
      "id": "1b91893e-b4a8-4906-9fb0-addd3bd6d5e2",
      "metadata": {},
      "outputs": [],
      "source": [
        "Z.shape"
      ]
    },
    {
      "cell_type": "markdown",
      "id": "2818250f-e885-46f5-94ec-ab6a53ae34a4",
      "metadata": {},
      "outputs": [],
      "source": [
        "After the transformation, there are 896 samples and 15 features.\n"
      ]
    },
    {
      "cell_type": "code",
      "id": "732f8372-c2a5-41f5-a137-4d80e3904f01",
      "metadata": {},
      "outputs": [],
      "source": [
        "Z_pr.shape"
      ]
    },
    {
      "cell_type": "markdown",
      "id": "11a19f03-f294-451f-9594-54c9a56bc1b3",
      "metadata": {},
      "outputs": [],
      "source": [
        "### Pipeline"
      ]
    },
    {
      "cell_type": "markdown",
      "id": "88c07754-5217-476a-805f-ff152c5c815a",
      "metadata": {},
      "outputs": [],
      "source": [
        "<p>Data Pipelines simplify the steps of processing the data. We use the module <b>Pipeline</b> to create a pipeline. We also use <b>StandardScaler</b> as a step in our pipeline.</p>\n"
      ]
    },
    {
      "cell_type": "code",
      "id": "e7471e58-1e12-4c77-b133-a2101c5173f7",
      "metadata": {},
      "outputs": [],
      "source": [
        "from sklearn.pipeline import Pipeline\nfrom sklearn.preprocessing import StandardScaler"
      ]
    },
    {
      "cell_type": "markdown",
      "id": "e8959109-c5f4-47d0-b030-7c7e06e60650",
      "metadata": {},
      "outputs": [],
      "source": [
        "We create the pipeline by creating a list of tuples including the name of the model or estimator and its corresponding constructor.\n"
      ]
    },
    {
      "cell_type": "code",
      "id": "c0bf1c55-3d5c-4e57-9db8-39f9db137fb4",
      "metadata": {},
      "outputs": [],
      "source": [
        "Input=[('scale',StandardScaler()), ('polynomial', PolynomialFeatures(include_bias=False)), ('model',LinearRegression())]"
      ]
    },
    {
      "cell_type": "markdown",
      "id": "7a37a664-311f-4500-ab54-7f49a4c8f5d4",
      "metadata": {},
      "outputs": [],
      "source": [
        "We input the list as an argument to the pipeline constructor:\n"
      ]
    },
    {
      "cell_type": "code",
      "id": "60c2248e-5f68-4a81-b927-416e92962f18",
      "metadata": {},
      "outputs": [],
      "source": [
        "pipe=Pipeline(Input)\npipe"
      ]
    },
    {
      "cell_type": "markdown",
      "id": "f45ab80f-ff18-4bb9-9586-9aad0493e78c",
      "metadata": {},
      "outputs": [],
      "source": [
        "First, we convert the data type Z to type float to avoid conversion warnings that may appear as a result of StandardScaler taking float inputs.\n\nThen, we can normalize the data,  perform a transform and fit the model simultaneously.\n"
      ]
    },
    {
      "cell_type": "code",
      "id": "454eb0fb-fad3-4100-9d0e-8e4ddbda54ac",
      "metadata": {},
      "outputs": [],
      "source": [
        "Z = Z.astype(float)\npipe.fit(Z,y)"
      ]
    },
    {
      "cell_type": "markdown",
      "id": "38679bba-878e-4eab-853a-23f7d67dff57",
      "metadata": {},
      "outputs": [],
      "source": [
        "Similarly,  we can normalize the data, perform a transform and produce a prediction  simultaneously.\n"
      ]
    },
    {
      "cell_type": "code",
      "id": "67b62998-74f7-494a-9b4d-777c4350f180",
      "metadata": {},
      "outputs": [],
      "source": [
        "ypipe=pipe.predict(Z)\nypipe[0:4]"
      ]
    },
    {
      "cell_type": "markdown",
      "id": "a52e6dec-4e95-4093-852e-eecb74f05e42",
      "metadata": {},
      "outputs": [],
      "source": [
        "Now, we will compare actual values with the results of multivariate polynomial regression"
      ]
    },
    {
      "cell_type": "code",
      "id": "14ebe56f-ef7a-40ac-9f97-e40802a3c7c7",
      "metadata": {},
      "outputs": [],
      "source": [
        "plt.figure()\nY.plot()\nplt.plot(Y.index, ypipe)"
      ]
    },
    {
      "cell_type": "markdown",
      "id": "95bddae0-a093-45ea-90e2-fb7b716ed364",
      "metadata": {},
      "outputs": [],
      "source": [
        "<div class=\"alert alert-danger alertdanger\" style=\"margin-top: 20px\">\n<b style=\"font-size: 32px; font-weight: bold;\">Question #5:</b>\n<p>Create a pipeline that standardizes the data, then produce a prediction using a linear regression model using the features Z and target y.</p>\n</div>\n"
      ]
    },
    {
      "cell_type": "code",
      "id": "049dd5ab-d53e-4b10-9279-0b097d39e2a6",
      "metadata": {},
      "outputs": [],
      "source": [
        "# Write your code below and press Shift+Enter to execute \n"
      ]
    },
    {
      "cell_type": "markdown",
      "id": "65eb81f3-75b5-40fa-8ffa-bf1ea4d35f55",
      "metadata": {},
      "outputs": [],
      "source": [
        "<details><summary>Click here for the solution</summary>\n\n```python\nInput=[('scale',StandardScaler()),('model',LinearRegression())]\n\npipe=Pipeline(Input)\n\npipe.fit(Z,y)\n\nypipe=pipe.predict(Z)\nypipe[0:10]\n\n```\n\n</details>\n"
      ]
    },
    {
      "cell_type": "markdown",
      "id": "a969c7e3-69bf-4688-a502-b7740a612524",
      "metadata": {},
      "outputs": [],
      "source": [
        "<b style=\"font-size: 32px; font-weight: 500; text-decoration: none; padding-top: 20px;\">\n    <a name=\"measures_for_in-sample_evaluation\" style=\"text-decoration: none;\">\n        <font color=\"black\">4. Measures for In-Sample Evaluation</font>\n    </a>\n</b><br>"
      ]
    },
    {
      "cell_type": "markdown",
      "id": "6dd11f4e-492c-4b16-b498-82fe382c3785",
      "metadata": {},
      "outputs": [],
      "source": [
        "<p>When evaluating our models, not only do we want to visualize the results, but we also want a quantitative measure to determine how accurate the model is.</p>\n\n<p>Two very important measures that are often used in Statistics to determine the accuracy of a model are:</p>\n<ul>\n    <li><b>R^2 / R-squared</b></li>\n    <li><b>Mean Squared Error (MSE)</b></li>\n</ul>\n\n<b>R-squared</b>\n\n<p>R squared, also known as the coefficient of determination, is a measure to indicate how close the data is to the fitted regression line.</p>\n\n<p>The value of the R-squared is the percentage of variation of the response variable (y) that is explained by a linear model.</p>\n\n<b>Mean Squared Error (MSE)</b>\n\n<p>The Mean Squared Error measures the average of the squares of errors. That is, the difference between actual value (y) and the estimated value (ŷ).</p>\n"
      ]
    },
    {
      "cell_type": "markdown",
      "id": "8d01e988-a131-4111-ac06-bfba6f55dab9",
      "metadata": {},
      "outputs": [],
      "source": [
        "### Model 1: Simple Linear Regression\n"
      ]
    },
    {
      "cell_type": "markdown",
      "id": "98a68480-9fc5-4eef-8d3f-affb9e03addb",
      "metadata": {},
      "outputs": [],
      "source": [
        "Let's calculate the R^2:\n"
      ]
    },
    {
      "cell_type": "code",
      "id": "b1b6d83c-d41d-4f57-bc10-a478922eed30",
      "metadata": {},
      "outputs": [],
      "source": [
        "r1 = lm1.score(X, Y)"
      ]
    },
    {
      "cell_type": "code",
      "id": "bd1efd23-7821-440e-9ed4-efe6d9968057",
      "metadata": {},
      "outputs": [],
      "source": [
        "print('The R-square is: ', r1)"
      ]
    },
    {
      "cell_type": "markdown",
      "id": "ee7ccb8d-1b35-4fed-a349-17bb037342db",
      "metadata": {},
      "outputs": [],
      "source": [
        "We can say that \\~68.382% of the variation of the Store Sales is explained by this simple linear model \"Store_per_Area_fit\".\n"
      ]
    },
    {
      "cell_type": "markdown",
      "id": "69429d43-9204-43b2-8deb-c4f931409b08",
      "metadata": {},
      "outputs": [],
      "source": [
        "Let's calculate the MSE:\n"
      ]
    },
    {
      "cell_type": "markdown",
      "id": "ad7a9ca5-5dbc-4668-9818-1c81d32e934f",
      "metadata": {},
      "outputs": [],
      "source": [
        "We can predict the output i.e., \"yhat\" using the predict method, where X is the input variable:\n"
      ]
    },
    {
      "cell_type": "code",
      "id": "70eedf08-b568-466a-b807-d183d0e3fce9",
      "metadata": {},
      "outputs": [],
      "source": [
        "print('The output of the first four predicted value is: ', Yhat[0:4])"
      ]
    },
    {
      "cell_type": "markdown",
      "id": "212ca24b-9888-4bd2-925d-2682082f07c7",
      "metadata": {},
      "outputs": [],
      "source": [
        "Let's import the function <b>mean_squared_error</b> from the module <b>metrics</b>:\n"
      ]
    },
    {
      "cell_type": "code",
      "id": "9a6ce143-60e8-4563-a68f-05a218da1ca8",
      "metadata": {},
      "outputs": [],
      "source": [
        "from sklearn.metrics import mean_squared_error"
      ]
    },
    {
      "cell_type": "markdown",
      "id": "f20e6181-d952-4d15-9ad5-2e51052c6477",
      "metadata": {},
      "outputs": [],
      "source": [
        "We can compare the predicted results with the actual results:\n"
      ]
    },
    {
      "cell_type": "code",
      "id": "43744523-e7ca-4cd4-8975-eb4b2106d223",
      "metadata": {},
      "outputs": [],
      "source": [
        "mse1 = mean_squared_error(df['Store Sales'], Yhat)\nprint('The mean square error of sales and predicted value is: ', mse1)"
      ]
    },
    {
      "cell_type": "markdown",
      "id": "0054969d-a7e4-42f5-aeac-0001448c7b9f",
      "metadata": {},
      "outputs": [],
      "source": [
        "### Model 2: Multiple Linear Regression\n"
      ]
    },
    {
      "cell_type": "markdown",
      "id": "4be31329-9508-46c6-9ab0-200abf15e2a2",
      "metadata": {},
      "outputs": [],
      "source": [
        "Let's calculate the R^2:\n"
      ]
    },
    {
      "cell_type": "code",
      "id": "909d9491-1575-42ab-b37f-1d9c17e80657",
      "metadata": {},
      "outputs": [],
      "source": [
        "r2 = lm2.score(Z, df['Store Sales'])\nprint('The R-square is: ', r2)"
      ]
    },
    {
      "cell_type": "markdown",
      "id": "4ee80cb9-e26a-4091-b556-ae7d78e5e70b",
      "metadata": {},
      "outputs": [],
      "source": [
        "We can say that \\~95.606 % of the variation of sales is explained by this multiple linear regression \"multi_fit\".\n"
      ]
    },
    {
      "cell_type": "markdown",
      "id": "8d78e019-4bf9-4ec3-b8f5-98fb53e69af5",
      "metadata": {},
      "outputs": [],
      "source": [
        "Let's calculate the MSE.\n"
      ]
    },
    {
      "cell_type": "markdown",
      "id": "7db836be-1ba1-4dd9-a1b4-9299aa1a373f",
      "metadata": {},
      "outputs": [],
      "source": [
        "We compare the predicted results with the actual results:\n"
      ]
    },
    {
      "cell_type": "code",
      "id": "1e78676f-dd31-40c1-952f-899499ca099a",
      "metadata": {},
      "outputs": [],
      "source": [
        "mse2 = mean_squared_error(df['Store Sales'], Yhat2)\nprint('The mean square error of sales and predicted value is: ', mse2)"
      ]
    },
    {
      "cell_type": "markdown",
      "id": "4014cf2e-4cad-46f5-a6f2-794fec1535d2",
      "metadata": {},
      "outputs": [],
      "source": [
        "### Model 3: Polynomial Fit\n"
      ]
    },
    {
      "cell_type": "markdown",
      "id": "b4a56b06-91b0-42a2-82f9-11c73bbcbeac",
      "metadata": {},
      "outputs": [],
      "source": [
        "Let's calculate the R^2.\n"
      ]
    },
    {
      "cell_type": "markdown",
      "id": "cc84311a-f49e-49e9-8029-d6a4ce8f89ca",
      "metadata": {},
      "outputs": [],
      "source": [
        "Let’s import the function <b>r2\\_score</b> from the module <b>metrics</b> as we are using a different function.\n"
      ]
    },
    {
      "cell_type": "code",
      "id": "80201f7b-9d3a-4dce-a2eb-b70fc06a6fe0",
      "metadata": {},
      "outputs": [],
      "source": [
        "from sklearn.metrics import r2_score"
      ]
    },
    {
      "cell_type": "markdown",
      "id": "044ef9ec-2cc7-4460-8530-af14811c0cf2",
      "metadata": {},
      "outputs": [],
      "source": [
        "We apply the function to get the value of R^2:\n"
      ]
    },
    {
      "cell_type": "code",
      "id": "e4e2d488-f45a-4054-9765-98d9c544ed31",
      "metadata": {},
      "outputs": [],
      "source": [
        "r3 = r2_score(y, p(x))\nprint('The R-square value is: ', r3)"
      ]
    },
    {
      "cell_type": "markdown",
      "id": "629d286d-ae81-4ef2-98cb-31a1893b9706",
      "metadata": {},
      "outputs": [],
      "source": [
        "We can say that \\~72.399 % of the variation of sales is explained by this polynomial fit.\n"
      ]
    },
    {
      "cell_type": "markdown",
      "id": "4d0fc56d-76ec-417e-ab6a-c66e2994eca8",
      "metadata": {},
      "outputs": [],
      "source": [
        "We can also calculate the MSE:\n"
      ]
    },
    {
      "cell_type": "code",
      "id": "ff4885bd-a2bd-44d0-ae72-edfbf97e9cb3",
      "metadata": {},
      "outputs": [],
      "source": [
        "mse3 = mean_squared_error(df['Store Sales'], p(x))\nprint('The mean square error of sales and predicted value is: ', mse3)"
      ]
    },
    {
      "cell_type": "markdown",
      "id": "31857c93-d868-4499-b4a5-bc6c531e247c",
      "metadata": {},
      "outputs": [],
      "source": [
        "### Model 4: Multivariate Polynomial Regression\n"
      ]
    },
    {
      "cell_type": "markdown",
      "id": "5759e230-3ab7-4f8f-b048-2af9000f59ad",
      "metadata": {},
      "outputs": [],
      "source": [
        "Let's calculate the R^2:\n"
      ]
    },
    {
      "cell_type": "code",
      "id": "36b473c0-dbaf-4669-8577-413946c0a56b",
      "metadata": {},
      "outputs": [],
      "source": [
        "r4 = r2_score(y, ypipe)\nprint('The R-square is: ', r4)"
      ]
    },
    {
      "cell_type": "markdown",
      "id": "862c1302-207c-4a1c-9d2a-e5c779f2aaad",
      "metadata": {},
      "outputs": [],
      "source": [
        "We can say that 100% of the variation of sales is explained by this polynomial fit.\n"
      ]
    },
    {
      "cell_type": "markdown",
      "id": "8be8cf32-916e-4d9c-a210-d44c88cfc59e",
      "metadata": {},
      "outputs": [],
      "source": [
        "Calculating the MSE:"
      ]
    },
    {
      "cell_type": "code",
      "id": "20678071-593f-4179-bb6b-265525372b3e",
      "metadata": {},
      "outputs": [],
      "source": [
        "mse4 = mean_squared_error(y, ypipe)\nprint('The mean square error of sales and predicted value is: ', mse4)"
      ]
    },
    {
      "cell_type": "markdown",
      "id": "1d0812e7-d46d-4abd-8654-137cd3b55fda",
      "metadata": {},
      "outputs": [],
      "source": [
        "\n<b style=\"font-size: 32px; font-weight: 500; text-decoration: none; padding-top: 20px;\">\n    <a name=\"prediction_and_decision_making\" style=\"text-decoration: none;\">\n        <font color=\"black\">5. Prediction and Decision Making</font>\n    </a>\n</b><br>\n\n### Prediction\n\n<p>In the previous section, we trained the model using the method <b>fit</b>. Now we will use the method <b>predict</b> to produce a prediction. Lets import <b>pyplot</b> for plotting; we will also be using some functions from numpy.</p>\n"
      ]
    },
    {
      "cell_type": "markdown",
      "id": "d6d2ce7e-a6f0-41eb-a515-43fcb6489104",
      "metadata": {},
      "outputs": [],
      "source": [
        "Create a new input:\n"
      ]
    },
    {
      "cell_type": "code",
      "id": "b246d1e2-0aae-49a1-a2a7-a5e619a28f18",
      "metadata": {},
      "outputs": [],
      "source": [
        "new_input=np.arange(1, 100, 1).reshape(-1, 1)\nnew_input\n"
      ]
    },
    {
      "cell_type": "markdown",
      "id": "aa0c3175-0c6a-4480-88dc-cf39275a00f4",
      "metadata": {},
      "outputs": [],
      "source": [
        "Fit the model:\n"
      ]
    },
    {
      "cell_type": "code",
      "id": "1f4e01e5-a16d-4598-a67d-5399c7d22974",
      "metadata": {},
      "outputs": [],
      "source": [
        "lm1.fit(X, Y)\nlm1"
      ]
    },
    {
      "cell_type": "markdown",
      "id": "14014f18-15f7-40d1-b89e-227b40699a58",
      "metadata": {},
      "outputs": [],
      "source": [
        "Produce a prediction:\n"
      ]
    },
    {
      "cell_type": "code",
      "id": "8b689326-b2b4-4733-b030-2286ee8963a5",
      "metadata": {},
      "outputs": [],
      "source": [
        "yhat=lm1.predict(new_input)\nyhat[0:5]"
      ]
    },
    {
      "cell_type": "markdown",
      "id": "b7c44855-8aba-46fa-af40-2b28126a5096",
      "metadata": {},
      "outputs": [],
      "source": [
        "We can plot the data:\n"
      ]
    },
    {
      "cell_type": "code",
      "id": "7702d8fd-8d63-46a7-8aae-00b8cd3a559f",
      "metadata": {},
      "outputs": [],
      "source": [
        "plt.plot(new_input, yhat)\nplt.show()"
      ]
    },
    {
      "cell_type": "markdown",
      "id": "525306b4-4ff3-4716-9252-f6e844209dc9",
      "metadata": {},
      "outputs": [],
      "source": [
        "### Decision Making: Determining a Good Model Fit\n"
      ]
    },
    {
      "cell_type": "markdown",
      "id": "16ec805f-34af-47dd-8205-40072443b337",
      "metadata": {},
      "outputs": [],
      "source": [
        "<p>Now that we have visualized the different models, and generated the R-squared and MSE values for the fits, how do we determine a good model fit?\n<ul>\n    <li><i>What is a good R-squared value?</i></li>\n</ul>\n</p>\n\n<p>When comparing models, <b>the model with the higher R-squared value is a better fit</b> for the data.\n<ul>\n    <li><i>What is a good MSE?</i></li>\n</ul>\n</p>\n\n<p>When comparing models, <b>the model with the smallest MSE value is a better fit</b> for the data.</p>\n\n"
      ]
    },
    {
      "cell_type": "code",
      "id": "dd8ff5b5-e034-493a-b6b8-98bbe0b25f61",
      "metadata": {},
      "outputs": [],
      "source": [
        "measures_data = [[r1, mse1], [r2, mse2], [r3, mse3], [r4, mse4]]\nmeasures = pd.DataFrame(data=measures_data, columns=['R^2', 'MSE'], index=[1, 2, 3, 4])\nmeasures"
      ]
    },
    {
      "cell_type": "markdown",
      "id": "45dc7d5a-19a6-4a7f-a10d-edc69f72d2d3",
      "metadata": {},
      "outputs": [],
      "source": [
        "#### Let's take a look at the values for the different models.\n<p>Simple Linear Regression: Using 'Sales per Store Area' as a Predictor Variable of Store Sales.\n<ul>\n    <li>R-squared: 0.6838284843856415</li>\n    <li>MSE: 9.33 x10^7</li>\n</ul>\n</p>\n\n<p>Multiple Linear Regression: Using 'Store Area', 'Daily Customer Count', 'Revenue per Customer' and 'Sales per Store Area' as Predictor Variables of Store Sales.\n<ul>\n    <li>R-squared: 0.9560652091351229</li>\n    <li>MSE: 1.29 x10^7</li>\n</ul>\n</p>\n\n<p>Polynomial Fit: Using 'Sales per Store Area' as a Predictor Variable of sales.\n<ul>\n    <li>R-squared: 0.6741946663906514</li>\n    <li>MSE: 8.14 x 10^7</li>\n</ul>\n\n<p>Multivariate Polynomial Fit: Using multiple features as a Predictor Variable of sales.\n<ul>\n    <li>R-squared: 1.0</li>\n    <li>MSE: 0.74 x 10^-21</li>\n</ul>\n</p>"
      ]
    },
    {
      "cell_type": "markdown",
      "id": "5c5e76e1-3d18-496d-ae8c-5ed8a21ea700",
      "metadata": {},
      "outputs": [],
      "source": [
        "## Conclusion\n"
      ]
    },
    {
      "cell_type": "markdown",
      "id": "098ca2a6-ebbb-4e8e-b2ec-0b6091566151",
      "metadata": {},
      "outputs": [],
      "source": [
        "<p>Comparing these four models, we conclude that <b>the MPR model is the best model</b> to be able to predict Store Sales from our dataset.</p>\n"
      ]
    },
    {
      "cell_type": "markdown",
      "id": "91be3b14-cf98-40e5-9492-b6057a968a48",
      "metadata": {},
      "outputs": [],
      "source": [
        "### Thank you for completing this lab!\n\n## Author\n\n<a href=\"https://author.skills.network/instructors/ivan_dvylyuk\">Ivan Dvylyuk</a>\n\n### Other Contributors\n\n<a href=\"https://author.skills.network/instructors/yaroslav_vyklyuk_2\">Yaroslav Vyklyuk</a>\n\n<a href=\"https://author.skills.network/instructors/olga_kavun\">Olga Kavun</a>\n\n## Change Log\n\n| Date (YYYY-MM-DD) | Version | Changed By | Change Description                            |\n| ----------------- | ------- | ---------- | --------------------------------------------- |\n| 2023-04-27        | 1.1     | Ivan       | Created the lab                               |\n| 2023-05-23        | 1.2     | Ivan       | Changed style                                 |\n\n\n<hr>\n\n## <h3 align=\"center\"> © IBM Corporation 2023. All rights reserved. <h3/>\n"
      ]
    }
  ],
  "metadata": {
    "language_info": {
      "name": ""
    },
    "kernelspec": {
      "name": "",
      "display_name": ""
    }
  },
  "nbformat": 4,
  "nbformat_minor": 4
}